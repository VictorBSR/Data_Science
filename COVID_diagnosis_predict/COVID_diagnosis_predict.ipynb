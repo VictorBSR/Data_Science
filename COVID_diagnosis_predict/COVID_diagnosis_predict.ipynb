{
 "cells": [
  {
   "cell_type": "markdown",
   "id": "d54bd76a",
   "metadata": {
    "id": "d54bd76a"
   },
   "source": [
    "# Projeto 1 - Base de Dados Covid"
   ]
  },
  {
   "cell_type": "markdown",
   "id": "4e61fab0",
   "metadata": {
    "id": "4e61fab0"
   },
   "source": [
    "O objetivo do projeto será desenvolver um estudo no dataset `COVID.csv`, base esta que contém informações sobre casos de COVID. Ou seja a partir do diagnóstico de sintomas e informações dos pacientes deve-se desenvolver um modelo para prever casos confirmados de COVID'.\n",
    "\n",
    "<br>\n",
    "\n",
    "A descrição das variáveis contidas no dataset pode ser encontradas a seguir:\n",
    "\n",
    " - **id**: Identificação do paciente<br>\n",
    " - **sex**: Sexo do Paciente (0 - Homem / 1 - Mulher) <br>\n",
    " - **patient_type**: Se o paciente foi dispensado para casa (1) ou se foi internado (0) <br>\n",
    " - **intubed**: Seo paciente foi intubado ou não<br>\n",
    " - **pneumonia**: Se o paciente apresentou pneumonia ou não<br>\n",
    " - **age**: Idade do Paciente<br>\n",
    " - **pregnancy**: Se a paciente estava grávida ou não (para pacientes mulheres)<br>\n",
    " - **diabetes**: Se o paciente tem diabetes ou não<br>\n",
    " - **copd**: Se opaciente tem COPD ou não<br>\n",
    " - **asthma**: Se o paciente tem Asma ou não<br>\n",
    " - **inmsupr**: Se o paciente apresentou Imunosupressão ou não<br>\n",
    " - **hypertension**: Se o paciente tem hipertensão ou não<br>\n",
    " - **ohter_disease**: Se o paciente tem outras doenças ou não<br>\n",
    " - **cardiovascular**: Se o paciente tem doenças cardiácas ou não<br>\n",
    " - **obesity**: Se o paciente tem obesidade ou não<br>\n",
    " - **renal_chronic**: Se o paciente tem problemas renais ou não<br>\n",
    " - **tobacco**: Se o paciente é fumante ou não<br>\n",
    " - **contact_other_covid**: Se o paciente teve contato com outras pessoas diagnosticadas com covid<br>\n",
    " - **icu**: Se o paciente precisou ser internado na UTI<br>\n",
    " - **covid_res**: Se o resultado do teste foi Positivo ou Negativo<br>\n",
    " \n",
    "Para ajudar no desenvolvimento do projeto, vamos separar o projeto em algumas seções, conforme descritas a seguir:\n",
    "\n",
    "- __Preparação dos Dados e Verificação de Consistência__: Neste tópico deve ser feita a verificação da consistência dos dados e caso necessário efetuar eventuais modificações na base de dados. Alguns dos procedimentos que podemos fazer aqui são: Remoção e/ou tratamento de valores faltantes, remoção de duplicatas, ajustes dos tipos de variáveis, análise de _outliers_ entre outras;\n",
    "\n",
    "<br>\n",
    "\n",
    "- __Análise Exploratória dos Dados__: Para fazermos a modelagem, precisamos conhecer muito bem os dados que estamos trabalhando. Por isso, nesta parte do projeto foi desenvolvida análises e gráficos a respeito dos dados que estão utilizando;\n",
    "\n",
    "<br>\n",
    "\n",
    "- __Modelagem dos Dados__: Nesta parte, foi modelado um classificador para os resultados dos exames de COVID (`covid_res`). Foram treinados alguns modelo e de acordo com alguma métrica de avaliação, decidi qual será o melhor modelo a ser utilizado;\n",
    "\n",
    "<br>\n",
    "\n",
    "- __Otimização do Modelo__: A partir do modelo escolhido no tópico anterior, vamos tentar aprimorar e garantir um melhor desempenho no modelo, seja fazendo validação cruzada, otimização de parâmetros com _GridSearchCV_ ou _RandomizedSearchCV_ e até mesmo testar diferentes _thresholds_ (ao invés de utilizar a função _predict_ do modelo, utilize a função _predict_proba_ do modelo e a partir das probabilidades determinar qual vai ser o limiar onde será considerado um caso positivo ou negativo);\n",
    "\n",
    "<br>\n",
    "\n",
    "- __Conclusões sobre o Projeto__: Para finalizar, descreve-se conclusões sobre o desenvolvimento do modelo e os resultados obtidos."
   ]
  },
  {
   "cell_type": "markdown",
   "id": "1533a38b",
   "metadata": {
    "id": "-pDli9b8izyc"
   },
   "source": [
    "## Table of Contents:\n",
    "* [Preparação dos Dados](#first-bullet)\n",
    "* [Análise Exploratória dos Dados](#second-bullet)\n",
    "* [Modelagem dos Dados](#third-bullet)\n",
    "* [Otimização do Modelo](#fourth-bullet)\n",
    "* [Conclusões](#fifth-bullet)"
   ]
  },
  {
   "cell_type": "markdown",
   "id": "d117a2a8",
   "metadata": {},
   "source": [
    "## Preparação dos Dados <a class=\"anchor\" id=\"first-bullet\"></a>"
   ]
  },
  {
   "cell_type": "markdown",
   "id": "40b10406",
   "metadata": {},
   "source": [
    "#### Imports <a class=\"anchor\" id=\"imports\"></a>"
   ]
  },
  {
   "cell_type": "code",
   "execution_count": 1,
   "id": "2bb64caa",
   "metadata": {},
   "outputs": [],
   "source": [
    "import pandas as pd\n",
    "import numpy as np\n",
    "import matplotlib.pyplot as plt\n",
    "import seaborn as sns\n",
    "import plotly.express as px\n",
    "from sklearn.model_selection import train_test_split\n"
   ]
  },
  {
   "cell_type": "markdown",
   "id": "bbd531b2",
   "metadata": {},
   "source": [
    "#### Carregando o dataset e análises preliminares"
   ]
  },
  {
   "cell_type": "code",
   "execution_count": 2,
   "id": "ea941b6d",
   "metadata": {
    "scrolled": true
   },
   "outputs": [
    {
     "data": {
      "text/html": [
       "<div>\n",
       "<style scoped>\n",
       "    .dataframe tbody tr th:only-of-type {\n",
       "        vertical-align: middle;\n",
       "    }\n",
       "\n",
       "    .dataframe tbody tr th {\n",
       "        vertical-align: top;\n",
       "    }\n",
       "\n",
       "    .dataframe thead th {\n",
       "        text-align: right;\n",
       "    }\n",
       "</style>\n",
       "<table border=\"1\" class=\"dataframe\">\n",
       "  <thead>\n",
       "    <tr style=\"text-align: right;\">\n",
       "      <th></th>\n",
       "      <th>sex</th>\n",
       "      <th>patient_type</th>\n",
       "      <th>intubed</th>\n",
       "      <th>pneumonia</th>\n",
       "      <th>age</th>\n",
       "      <th>pregnancy</th>\n",
       "      <th>diabetes</th>\n",
       "      <th>copd</th>\n",
       "      <th>asthma</th>\n",
       "      <th>inmsupr</th>\n",
       "      <th>hypertension</th>\n",
       "      <th>other_disease</th>\n",
       "      <th>cardiovascular</th>\n",
       "      <th>obesity</th>\n",
       "      <th>renal_chronic</th>\n",
       "      <th>tobacco</th>\n",
       "      <th>contact_other_covid</th>\n",
       "      <th>covid_res</th>\n",
       "      <th>icu</th>\n",
       "    </tr>\n",
       "  </thead>\n",
       "  <tbody>\n",
       "    <tr>\n",
       "      <th>0</th>\n",
       "      <td>0</td>\n",
       "      <td>1</td>\n",
       "      <td>NaN</td>\n",
       "      <td>0.0</td>\n",
       "      <td>27</td>\n",
       "      <td>NaN</td>\n",
       "      <td>0.0</td>\n",
       "      <td>0.0</td>\n",
       "      <td>0.0</td>\n",
       "      <td>0.0</td>\n",
       "      <td>0.0</td>\n",
       "      <td>0.0</td>\n",
       "      <td>0.0</td>\n",
       "      <td>0.0</td>\n",
       "      <td>0.0</td>\n",
       "      <td>0.0</td>\n",
       "      <td>0.0</td>\n",
       "      <td>1</td>\n",
       "      <td>NaN</td>\n",
       "    </tr>\n",
       "    <tr>\n",
       "      <th>1</th>\n",
       "      <td>0</td>\n",
       "      <td>1</td>\n",
       "      <td>NaN</td>\n",
       "      <td>0.0</td>\n",
       "      <td>24</td>\n",
       "      <td>NaN</td>\n",
       "      <td>0.0</td>\n",
       "      <td>0.0</td>\n",
       "      <td>0.0</td>\n",
       "      <td>0.0</td>\n",
       "      <td>0.0</td>\n",
       "      <td>0.0</td>\n",
       "      <td>0.0</td>\n",
       "      <td>0.0</td>\n",
       "      <td>0.0</td>\n",
       "      <td>0.0</td>\n",
       "      <td>NaN</td>\n",
       "      <td>1</td>\n",
       "      <td>NaN</td>\n",
       "    </tr>\n",
       "    <tr>\n",
       "      <th>2</th>\n",
       "      <td>1</td>\n",
       "      <td>0</td>\n",
       "      <td>0.0</td>\n",
       "      <td>0.0</td>\n",
       "      <td>54</td>\n",
       "      <td>0.0</td>\n",
       "      <td>0.0</td>\n",
       "      <td>0.0</td>\n",
       "      <td>0.0</td>\n",
       "      <td>0.0</td>\n",
       "      <td>0.0</td>\n",
       "      <td>0.0</td>\n",
       "      <td>0.0</td>\n",
       "      <td>1.0</td>\n",
       "      <td>0.0</td>\n",
       "      <td>0.0</td>\n",
       "      <td>NaN</td>\n",
       "      <td>1</td>\n",
       "      <td>0.0</td>\n",
       "    </tr>\n",
       "    <tr>\n",
       "      <th>3</th>\n",
       "      <td>0</td>\n",
       "      <td>0</td>\n",
       "      <td>0.0</td>\n",
       "      <td>1.0</td>\n",
       "      <td>30</td>\n",
       "      <td>NaN</td>\n",
       "      <td>0.0</td>\n",
       "      <td>0.0</td>\n",
       "      <td>0.0</td>\n",
       "      <td>0.0</td>\n",
       "      <td>0.0</td>\n",
       "      <td>0.0</td>\n",
       "      <td>0.0</td>\n",
       "      <td>0.0</td>\n",
       "      <td>0.0</td>\n",
       "      <td>0.0</td>\n",
       "      <td>NaN</td>\n",
       "      <td>1</td>\n",
       "      <td>0.0</td>\n",
       "    </tr>\n",
       "    <tr>\n",
       "      <th>4</th>\n",
       "      <td>1</td>\n",
       "      <td>0</td>\n",
       "      <td>0.0</td>\n",
       "      <td>0.0</td>\n",
       "      <td>60</td>\n",
       "      <td>0.0</td>\n",
       "      <td>1.0</td>\n",
       "      <td>0.0</td>\n",
       "      <td>0.0</td>\n",
       "      <td>0.0</td>\n",
       "      <td>1.0</td>\n",
       "      <td>0.0</td>\n",
       "      <td>1.0</td>\n",
       "      <td>0.0</td>\n",
       "      <td>0.0</td>\n",
       "      <td>0.0</td>\n",
       "      <td>NaN</td>\n",
       "      <td>1</td>\n",
       "      <td>0.0</td>\n",
       "    </tr>\n",
       "  </tbody>\n",
       "</table>\n",
       "</div>"
      ],
      "text/plain": [
       "   sex  patient_type  intubed  pneumonia  age  pregnancy  diabetes  copd  \\\n",
       "0    0             1      NaN        0.0   27        NaN       0.0   0.0   \n",
       "1    0             1      NaN        0.0   24        NaN       0.0   0.0   \n",
       "2    1             0      0.0        0.0   54        0.0       0.0   0.0   \n",
       "3    0             0      0.0        1.0   30        NaN       0.0   0.0   \n",
       "4    1             0      0.0        0.0   60        0.0       1.0   0.0   \n",
       "\n",
       "   asthma  inmsupr  hypertension  other_disease  cardiovascular  obesity  \\\n",
       "0     0.0      0.0           0.0            0.0             0.0      0.0   \n",
       "1     0.0      0.0           0.0            0.0             0.0      0.0   \n",
       "2     0.0      0.0           0.0            0.0             0.0      1.0   \n",
       "3     0.0      0.0           0.0            0.0             0.0      0.0   \n",
       "4     0.0      0.0           1.0            0.0             1.0      0.0   \n",
       "\n",
       "   renal_chronic  tobacco  contact_other_covid  covid_res  icu  \n",
       "0            0.0      0.0                  0.0          1  NaN  \n",
       "1            0.0      0.0                  NaN          1  NaN  \n",
       "2            0.0      0.0                  NaN          1  0.0  \n",
       "3            0.0      0.0                  NaN          1  0.0  \n",
       "4            0.0      0.0                  NaN          1  0.0  "
      ]
     },
     "execution_count": 2,
     "metadata": {},
     "output_type": "execute_result"
    }
   ],
   "source": [
    "covid = pd.read_csv('COVID.csv', index_col=0)\n",
    "covid.head()"
   ]
  },
  {
   "cell_type": "code",
   "execution_count": 3,
   "id": "bda1f5f1",
   "metadata": {},
   "outputs": [
    {
     "name": "stdout",
     "output_type": "stream",
     "text": [
      "<class 'pandas.core.frame.DataFrame'>\n",
      "Int64Index: 499692 entries, 0 to 499691\n",
      "Data columns (total 19 columns):\n",
      " #   Column               Non-Null Count   Dtype  \n",
      "---  ------               --------------   -----  \n",
      " 0   sex                  499692 non-null  int64  \n",
      " 1   patient_type         499692 non-null  int64  \n",
      " 2   intubed              107424 non-null  float64\n",
      " 3   pneumonia            499681 non-null  float64\n",
      " 4   age                  499692 non-null  int64  \n",
      " 5   pregnancy            245258 non-null  float64\n",
      " 6   diabetes             498051 non-null  float64\n",
      " 7   copd                 498246 non-null  float64\n",
      " 8   asthma               498250 non-null  float64\n",
      " 9   inmsupr              498030 non-null  float64\n",
      " 10  hypertension         498203 non-null  float64\n",
      " 11  other_disease        497499 non-null  float64\n",
      " 12  cardiovascular       498183 non-null  float64\n",
      " 13  obesity              498222 non-null  float64\n",
      " 14  renal_chronic        498216 non-null  float64\n",
      " 15  tobacco              498113 non-null  float64\n",
      " 16  contact_other_covid  346017 non-null  float64\n",
      " 17  covid_res            499692 non-null  int64  \n",
      " 18  icu                  107423 non-null  float64\n",
      "dtypes: float64(15), int64(4)\n",
      "memory usage: 76.2 MB\n"
     ]
    }
   ],
   "source": [
    "covid.info()"
   ]
  },
  {
   "cell_type": "code",
   "execution_count": 4,
   "id": "4c74a6f9",
   "metadata": {},
   "outputs": [
    {
     "data": {
      "text/html": [
       "<div>\n",
       "<style scoped>\n",
       "    .dataframe tbody tr th:only-of-type {\n",
       "        vertical-align: middle;\n",
       "    }\n",
       "\n",
       "    .dataframe tbody tr th {\n",
       "        vertical-align: top;\n",
       "    }\n",
       "\n",
       "    .dataframe thead th {\n",
       "        text-align: right;\n",
       "    }\n",
       "</style>\n",
       "<table border=\"1\" class=\"dataframe\">\n",
       "  <thead>\n",
       "    <tr style=\"text-align: right;\">\n",
       "      <th></th>\n",
       "      <th>sex</th>\n",
       "      <th>patient_type</th>\n",
       "      <th>intubed</th>\n",
       "      <th>pneumonia</th>\n",
       "      <th>age</th>\n",
       "      <th>pregnancy</th>\n",
       "      <th>diabetes</th>\n",
       "      <th>copd</th>\n",
       "      <th>asthma</th>\n",
       "      <th>inmsupr</th>\n",
       "      <th>hypertension</th>\n",
       "      <th>other_disease</th>\n",
       "      <th>cardiovascular</th>\n",
       "      <th>obesity</th>\n",
       "      <th>renal_chronic</th>\n",
       "      <th>tobacco</th>\n",
       "      <th>contact_other_covid</th>\n",
       "      <th>covid_res</th>\n",
       "      <th>icu</th>\n",
       "    </tr>\n",
       "  </thead>\n",
       "  <tbody>\n",
       "    <tr>\n",
       "      <th>count</th>\n",
       "      <td>499692.000000</td>\n",
       "      <td>499692.000000</td>\n",
       "      <td>107424.000000</td>\n",
       "      <td>499681.000000</td>\n",
       "      <td>499692.000000</td>\n",
       "      <td>245258.000000</td>\n",
       "      <td>498051.000000</td>\n",
       "      <td>498246.000000</td>\n",
       "      <td>498250.000000</td>\n",
       "      <td>498030.000000</td>\n",
       "      <td>498203.000000</td>\n",
       "      <td>497499.000000</td>\n",
       "      <td>498183.000000</td>\n",
       "      <td>498222.000000</td>\n",
       "      <td>498216.000000</td>\n",
       "      <td>498113.000000</td>\n",
       "      <td>346017.000000</td>\n",
       "      <td>499692.000000</td>\n",
       "      <td>107423.000000</td>\n",
       "    </tr>\n",
       "    <tr>\n",
       "      <th>mean</th>\n",
       "      <td>0.493492</td>\n",
       "      <td>0.784775</td>\n",
       "      <td>0.084739</td>\n",
       "      <td>0.157533</td>\n",
       "      <td>42.545942</td>\n",
       "      <td>0.014736</td>\n",
       "      <td>0.125186</td>\n",
       "      <td>0.016610</td>\n",
       "      <td>0.032542</td>\n",
       "      <td>0.016206</td>\n",
       "      <td>0.163267</td>\n",
       "      <td>0.030939</td>\n",
       "      <td>0.022921</td>\n",
       "      <td>0.164443</td>\n",
       "      <td>0.020110</td>\n",
       "      <td>0.086235</td>\n",
       "      <td>0.569238</td>\n",
       "      <td>0.441586</td>\n",
       "      <td>0.083865</td>\n",
       "    </tr>\n",
       "    <tr>\n",
       "      <th>std</th>\n",
       "      <td>0.499958</td>\n",
       "      <td>0.410978</td>\n",
       "      <td>0.278494</td>\n",
       "      <td>0.364302</td>\n",
       "      <td>16.640391</td>\n",
       "      <td>0.120492</td>\n",
       "      <td>0.330930</td>\n",
       "      <td>0.127806</td>\n",
       "      <td>0.177434</td>\n",
       "      <td>0.126267</td>\n",
       "      <td>0.369609</td>\n",
       "      <td>0.173152</td>\n",
       "      <td>0.149653</td>\n",
       "      <td>0.370677</td>\n",
       "      <td>0.140376</td>\n",
       "      <td>0.280712</td>\n",
       "      <td>0.495184</td>\n",
       "      <td>0.496577</td>\n",
       "      <td>0.277186</td>\n",
       "    </tr>\n",
       "    <tr>\n",
       "      <th>min</th>\n",
       "      <td>0.000000</td>\n",
       "      <td>0.000000</td>\n",
       "      <td>0.000000</td>\n",
       "      <td>0.000000</td>\n",
       "      <td>0.000000</td>\n",
       "      <td>0.000000</td>\n",
       "      <td>0.000000</td>\n",
       "      <td>0.000000</td>\n",
       "      <td>0.000000</td>\n",
       "      <td>0.000000</td>\n",
       "      <td>0.000000</td>\n",
       "      <td>0.000000</td>\n",
       "      <td>0.000000</td>\n",
       "      <td>0.000000</td>\n",
       "      <td>0.000000</td>\n",
       "      <td>0.000000</td>\n",
       "      <td>0.000000</td>\n",
       "      <td>0.000000</td>\n",
       "      <td>0.000000</td>\n",
       "    </tr>\n",
       "    <tr>\n",
       "      <th>25%</th>\n",
       "      <td>0.000000</td>\n",
       "      <td>1.000000</td>\n",
       "      <td>0.000000</td>\n",
       "      <td>0.000000</td>\n",
       "      <td>31.000000</td>\n",
       "      <td>0.000000</td>\n",
       "      <td>0.000000</td>\n",
       "      <td>0.000000</td>\n",
       "      <td>0.000000</td>\n",
       "      <td>0.000000</td>\n",
       "      <td>0.000000</td>\n",
       "      <td>0.000000</td>\n",
       "      <td>0.000000</td>\n",
       "      <td>0.000000</td>\n",
       "      <td>0.000000</td>\n",
       "      <td>0.000000</td>\n",
       "      <td>0.000000</td>\n",
       "      <td>0.000000</td>\n",
       "      <td>0.000000</td>\n",
       "    </tr>\n",
       "    <tr>\n",
       "      <th>50%</th>\n",
       "      <td>0.000000</td>\n",
       "      <td>1.000000</td>\n",
       "      <td>0.000000</td>\n",
       "      <td>0.000000</td>\n",
       "      <td>41.000000</td>\n",
       "      <td>0.000000</td>\n",
       "      <td>0.000000</td>\n",
       "      <td>0.000000</td>\n",
       "      <td>0.000000</td>\n",
       "      <td>0.000000</td>\n",
       "      <td>0.000000</td>\n",
       "      <td>0.000000</td>\n",
       "      <td>0.000000</td>\n",
       "      <td>0.000000</td>\n",
       "      <td>0.000000</td>\n",
       "      <td>0.000000</td>\n",
       "      <td>1.000000</td>\n",
       "      <td>0.000000</td>\n",
       "      <td>0.000000</td>\n",
       "    </tr>\n",
       "    <tr>\n",
       "      <th>75%</th>\n",
       "      <td>1.000000</td>\n",
       "      <td>1.000000</td>\n",
       "      <td>0.000000</td>\n",
       "      <td>0.000000</td>\n",
       "      <td>53.000000</td>\n",
       "      <td>0.000000</td>\n",
       "      <td>0.000000</td>\n",
       "      <td>0.000000</td>\n",
       "      <td>0.000000</td>\n",
       "      <td>0.000000</td>\n",
       "      <td>0.000000</td>\n",
       "      <td>0.000000</td>\n",
       "      <td>0.000000</td>\n",
       "      <td>0.000000</td>\n",
       "      <td>0.000000</td>\n",
       "      <td>0.000000</td>\n",
       "      <td>1.000000</td>\n",
       "      <td>1.000000</td>\n",
       "      <td>0.000000</td>\n",
       "    </tr>\n",
       "    <tr>\n",
       "      <th>max</th>\n",
       "      <td>1.000000</td>\n",
       "      <td>1.000000</td>\n",
       "      <td>1.000000</td>\n",
       "      <td>1.000000</td>\n",
       "      <td>120.000000</td>\n",
       "      <td>1.000000</td>\n",
       "      <td>1.000000</td>\n",
       "      <td>1.000000</td>\n",
       "      <td>1.000000</td>\n",
       "      <td>1.000000</td>\n",
       "      <td>1.000000</td>\n",
       "      <td>1.000000</td>\n",
       "      <td>1.000000</td>\n",
       "      <td>1.000000</td>\n",
       "      <td>1.000000</td>\n",
       "      <td>1.000000</td>\n",
       "      <td>1.000000</td>\n",
       "      <td>1.000000</td>\n",
       "      <td>1.000000</td>\n",
       "    </tr>\n",
       "  </tbody>\n",
       "</table>\n",
       "</div>"
      ],
      "text/plain": [
       "                 sex   patient_type        intubed      pneumonia  \\\n",
       "count  499692.000000  499692.000000  107424.000000  499681.000000   \n",
       "mean        0.493492       0.784775       0.084739       0.157533   \n",
       "std         0.499958       0.410978       0.278494       0.364302   \n",
       "min         0.000000       0.000000       0.000000       0.000000   \n",
       "25%         0.000000       1.000000       0.000000       0.000000   \n",
       "50%         0.000000       1.000000       0.000000       0.000000   \n",
       "75%         1.000000       1.000000       0.000000       0.000000   \n",
       "max         1.000000       1.000000       1.000000       1.000000   \n",
       "\n",
       "                 age      pregnancy       diabetes           copd  \\\n",
       "count  499692.000000  245258.000000  498051.000000  498246.000000   \n",
       "mean       42.545942       0.014736       0.125186       0.016610   \n",
       "std        16.640391       0.120492       0.330930       0.127806   \n",
       "min         0.000000       0.000000       0.000000       0.000000   \n",
       "25%        31.000000       0.000000       0.000000       0.000000   \n",
       "50%        41.000000       0.000000       0.000000       0.000000   \n",
       "75%        53.000000       0.000000       0.000000       0.000000   \n",
       "max       120.000000       1.000000       1.000000       1.000000   \n",
       "\n",
       "              asthma        inmsupr   hypertension  other_disease  \\\n",
       "count  498250.000000  498030.000000  498203.000000  497499.000000   \n",
       "mean        0.032542       0.016206       0.163267       0.030939   \n",
       "std         0.177434       0.126267       0.369609       0.173152   \n",
       "min         0.000000       0.000000       0.000000       0.000000   \n",
       "25%         0.000000       0.000000       0.000000       0.000000   \n",
       "50%         0.000000       0.000000       0.000000       0.000000   \n",
       "75%         0.000000       0.000000       0.000000       0.000000   \n",
       "max         1.000000       1.000000       1.000000       1.000000   \n",
       "\n",
       "       cardiovascular        obesity  renal_chronic        tobacco  \\\n",
       "count   498183.000000  498222.000000  498216.000000  498113.000000   \n",
       "mean         0.022921       0.164443       0.020110       0.086235   \n",
       "std          0.149653       0.370677       0.140376       0.280712   \n",
       "min          0.000000       0.000000       0.000000       0.000000   \n",
       "25%          0.000000       0.000000       0.000000       0.000000   \n",
       "50%          0.000000       0.000000       0.000000       0.000000   \n",
       "75%          0.000000       0.000000       0.000000       0.000000   \n",
       "max          1.000000       1.000000       1.000000       1.000000   \n",
       "\n",
       "       contact_other_covid      covid_res            icu  \n",
       "count        346017.000000  499692.000000  107423.000000  \n",
       "mean              0.569238       0.441586       0.083865  \n",
       "std               0.495184       0.496577       0.277186  \n",
       "min               0.000000       0.000000       0.000000  \n",
       "25%               0.000000       0.000000       0.000000  \n",
       "50%               1.000000       0.000000       0.000000  \n",
       "75%               1.000000       1.000000       0.000000  \n",
       "max               1.000000       1.000000       1.000000  "
      ]
     },
     "execution_count": 4,
     "metadata": {},
     "output_type": "execute_result"
    }
   ],
   "source": [
    "covid.describe()"
   ]
  },
  {
   "cell_type": "markdown",
   "id": "1df1d9a1",
   "metadata": {},
   "source": [
    "#### Tratamento dos valores nulos"
   ]
  },
  {
   "cell_type": "code",
   "execution_count": 5,
   "id": "3e5408da",
   "metadata": {
    "scrolled": true
   },
   "outputs": [
    {
     "data": {
      "text/plain": [
       "sex                         0\n",
       "patient_type                0\n",
       "intubed                392268\n",
       "pneumonia                  11\n",
       "age                         0\n",
       "pregnancy              254434\n",
       "diabetes                 1641\n",
       "copd                     1446\n",
       "asthma                   1442\n",
       "inmsupr                  1662\n",
       "hypertension             1489\n",
       "other_disease            2193\n",
       "cardiovascular           1509\n",
       "obesity                  1470\n",
       "renal_chronic            1476\n",
       "tobacco                  1579\n",
       "contact_other_covid    153675\n",
       "covid_res                   0\n",
       "icu                    392269\n",
       "dtype: int64"
      ]
     },
     "execution_count": 5,
     "metadata": {},
     "output_type": "execute_result"
    }
   ],
   "source": [
    "covid.isna().sum()"
   ]
  },
  {
   "cell_type": "markdown",
   "id": "8bdc896c",
   "metadata": {},
   "source": [
    "Podemos ver que há muitos valores nulos para diversas features. Desde já podemos ajustar como '0' o valor de 'pregnancy' para os homens, a fim de diminuir estes valores nulos:"
   ]
  },
  {
   "cell_type": "code",
   "execution_count": 6,
   "id": "1b7c6daf",
   "metadata": {
    "scrolled": true
   },
   "outputs": [
    {
     "data": {
      "text/plain": [
       "0.0    241644\n",
       "1.0      3614\n",
       "Name: pregnancy, dtype: int64"
      ]
     },
     "execution_count": 6,
     "metadata": {},
     "output_type": "execute_result"
    }
   ],
   "source": [
    "covid['pregnancy'].value_counts()"
   ]
  },
  {
   "cell_type": "code",
   "execution_count": 7,
   "id": "13e2cee5",
   "metadata": {
    "scrolled": true
   },
   "outputs": [],
   "source": [
    "covid.loc[covid.sex == 0, \"pregnancy\"] = 0"
   ]
  },
  {
   "cell_type": "code",
   "execution_count": 8,
   "id": "219c3016",
   "metadata": {
    "scrolled": true
   },
   "outputs": [
    {
     "data": {
      "text/plain": [
       "0.0    494742\n",
       "1.0      3614\n",
       "Name: pregnancy, dtype: int64"
      ]
     },
     "execution_count": 8,
     "metadata": {},
     "output_type": "execute_result"
    }
   ],
   "source": [
    "covid['pregnancy'].value_counts()"
   ]
  },
  {
   "cell_type": "markdown",
   "id": "5afa0be8",
   "metadata": {},
   "source": [
    "---"
   ]
  },
  {
   "cell_type": "markdown",
   "id": "7ea760e0",
   "metadata": {},
   "source": [
    "Outras relações que podemos tirar para tentar diminuir os valores nulos são a de pacientes que foram para casa *versus* os que foram internados e entubados:"
   ]
  },
  {
   "cell_type": "code",
   "execution_count": 9,
   "id": "e04e141e",
   "metadata": {},
   "outputs": [
    {
     "data": {
      "text/plain": [
       "NaN    392146\n",
       "Name: intubed, dtype: int64"
      ]
     },
     "execution_count": 9,
     "metadata": {},
     "output_type": "execute_result"
    }
   ],
   "source": [
    "covid[covid['patient_type']==1]['intubed'].value_counts(dropna=False)"
   ]
  },
  {
   "cell_type": "code",
   "execution_count": 10,
   "id": "708e4c0f",
   "metadata": {},
   "outputs": [
    {
     "data": {
      "text/plain": [
       "NaN    392146\n",
       "Name: icu, dtype: int64"
      ]
     },
     "execution_count": 10,
     "metadata": {},
     "output_type": "execute_result"
    }
   ],
   "source": [
    "covid[covid['patient_type']==1]['icu'].value_counts(dropna=False)"
   ]
  },
  {
   "cell_type": "code",
   "execution_count": 11,
   "id": "b7b3835d",
   "metadata": {},
   "outputs": [
    {
     "data": {
      "text/plain": [
       "0.0    4601\n",
       "1.0    4502\n",
       "Name: icu, dtype: int64"
      ]
     },
     "execution_count": 11,
     "metadata": {},
     "output_type": "execute_result"
    }
   ],
   "source": [
    "covid[covid['intubed']==1]['icu'].value_counts(dropna=False)"
   ]
  },
  {
   "cell_type": "code",
   "execution_count": 12,
   "id": "6ea9e54d",
   "metadata": {},
   "outputs": [],
   "source": [
    "# pacientes que foram para casa não foram entubados\n",
    "covid.loc[covid.patient_type == 1, \"intubed\"] = 0\n",
    "\n",
    "# pacientes que foram para casa não foram internados\n",
    "covid.loc[covid.patient_type == 1, \"icu\"] = 0\n",
    "\n",
    "# pacientes que foram entubados foram internados\n",
    "covid.loc[covid.intubed == 1, \"icu\"] = 1"
   ]
  },
  {
   "cell_type": "code",
   "execution_count": 13,
   "id": "b6d7f1c1",
   "metadata": {
    "scrolled": true
   },
   "outputs": [
    {
     "data": {
      "text/plain": [
       "sex                         0\n",
       "patient_type                0\n",
       "intubed                   122\n",
       "pneumonia                  11\n",
       "age                         0\n",
       "pregnancy                1336\n",
       "diabetes                 1641\n",
       "copd                     1446\n",
       "asthma                   1442\n",
       "inmsupr                  1662\n",
       "hypertension             1489\n",
       "other_disease            2193\n",
       "cardiovascular           1509\n",
       "obesity                  1470\n",
       "renal_chronic            1476\n",
       "tobacco                  1579\n",
       "contact_other_covid    153675\n",
       "covid_res                   0\n",
       "icu                       123\n",
       "dtype: int64"
      ]
     },
     "execution_count": 13,
     "metadata": {},
     "output_type": "execute_result"
    }
   ],
   "source": [
    "covid.isna().sum()"
   ]
  },
  {
   "cell_type": "markdown",
   "id": "ec5d9d71",
   "metadata": {},
   "source": [
    "---"
   ]
  },
  {
   "cell_type": "code",
   "execution_count": 14,
   "id": "6f8a5cfc",
   "metadata": {},
   "outputs": [
    {
     "data": {
      "text/plain": [
       "1.0    196966\n",
       "0.0    149051\n",
       "Name: contact_other_covid, dtype: int64"
      ]
     },
     "execution_count": 14,
     "metadata": {},
     "output_type": "execute_result"
    }
   ],
   "source": [
    "covid['contact_other_covid'].value_counts()"
   ]
  },
  {
   "cell_type": "markdown",
   "id": "147e40a5",
   "metadata": {},
   "source": [
    "Neste momento já reduzimos significativamente a quantidade de nulos, com exceção da coluna de \"teve contato com outras pessoas com diagnóstico positivo\". Iremos utilizar duas abordagens a partir de agora:\n",
    "- Testar o modelo SEM levar em conta essa coluna\n",
    "- Testar o modelo com zero no lugar dos valores nulos"
   ]
  },
  {
   "cell_type": "code",
   "execution_count": 15,
   "id": "041ac932",
   "metadata": {},
   "outputs": [],
   "source": [
    "covid_alt = covid.drop(['contact_other_covid'], axis = 1)\n",
    "covid['contact_other_covid'].fillna(0, inplace=True)"
   ]
  },
  {
   "cell_type": "code",
   "execution_count": 16,
   "id": "afe5b6cd",
   "metadata": {},
   "outputs": [
    {
     "data": {
      "text/plain": [
       "sex                       0\n",
       "patient_type              0\n",
       "intubed                 122\n",
       "pneumonia                11\n",
       "age                       0\n",
       "pregnancy              1336\n",
       "diabetes               1641\n",
       "copd                   1446\n",
       "asthma                 1442\n",
       "inmsupr                1662\n",
       "hypertension           1489\n",
       "other_disease          2193\n",
       "cardiovascular         1509\n",
       "obesity                1470\n",
       "renal_chronic          1476\n",
       "tobacco                1579\n",
       "contact_other_covid       0\n",
       "covid_res                 0\n",
       "icu                     123\n",
       "dtype: int64"
      ]
     },
     "execution_count": 16,
     "metadata": {},
     "output_type": "execute_result"
    }
   ],
   "source": [
    "covid.isna().sum()"
   ]
  },
  {
   "cell_type": "markdown",
   "id": "d78553fe",
   "metadata": {},
   "source": [
    "Avaliando qual o prejuízo de se desconsiderar (apagar) o restante das linhas que contêm valores nulos, percebe-se que elas correspondem a 4744 registros (0.94% da base de dados), portanto é razoável fazê-lo:"
   ]
  },
  {
   "cell_type": "code",
   "execution_count": 17,
   "id": "48f04c9d",
   "metadata": {
    "scrolled": true
   },
   "outputs": [
    {
     "name": "stdout",
     "output_type": "stream",
     "text": [
      "4744\n"
     ]
    },
    {
     "data": {
      "text/plain": [
       "0.9493848210497667"
      ]
     },
     "execution_count": 17,
     "metadata": {},
     "output_type": "execute_result"
    }
   ],
   "source": [
    "diff = len(covid)-len(covid.dropna())\n",
    "print(diff)\n",
    "diff/len(covid) * 100"
   ]
  },
  {
   "cell_type": "code",
   "execution_count": 18,
   "id": "80a49f66",
   "metadata": {},
   "outputs": [],
   "source": [
    "covid.dropna(inplace=True)\n",
    "covid_alt.dropna(inplace=True)"
   ]
  },
  {
   "cell_type": "markdown",
   "id": "7d1add4b",
   "metadata": {},
   "source": [
    "## Análise Exploratória dos Dados <a class=\"anchor\" id=\"second-bullet\"></a>"
   ]
  },
  {
   "cell_type": "markdown",
   "id": "eedf1a8d",
   "metadata": {},
   "source": [
    "#### Visualização do target"
   ]
  },
  {
   "cell_type": "code",
   "execution_count": 19,
   "id": "be0d8634",
   "metadata": {
    "scrolled": false
   },
   "outputs": [
    {
     "data": {
      "text/plain": [
       "0    276757\n",
       "1    218191\n",
       "Name: covid_res, dtype: int64"
      ]
     },
     "execution_count": 19,
     "metadata": {},
     "output_type": "execute_result"
    }
   ],
   "source": [
    "covid['covid_res'].value_counts()"
   ]
  },
  {
   "cell_type": "markdown",
   "id": "c217add3",
   "metadata": {},
   "source": [
    "A distribuição do nosso target é bem balanceada, o que ajuda na modelagem em geral. Dessa forma, a princípio, não precisaremos utilizar algumas técnicas como estratificação, over e undersampling, SMOTE, etc..."
   ]
  },
  {
   "cell_type": "code",
   "execution_count": 20,
   "id": "1d133787",
   "metadata": {
    "scrolled": false
   },
   "outputs": [
    {
     "data": {
      "text/plain": [
       "<AxesSubplot:xlabel='covid_res', ylabel='count'>"
      ]
     },
     "execution_count": 20,
     "metadata": {},
     "output_type": "execute_result"
    },
    {
     "data": {
      "image/png": "[encoded data removed]",
      "text/plain": [
       "<Figure size 432x288 with 1 Axes>"
      ]
     },
     "metadata": {
      "needs_background": "light"
     },
     "output_type": "display_data"
    }
   ],
   "source": [
    "sns.countplot(data=covid, x='covid_res', palette=['#4169E1','#D2691E'])"
   ]
  },
  {
   "cell_type": "markdown",
   "id": "c25438c9",
   "metadata": {},
   "source": [
    "#### Visualizações gerais"
   ]
  },
  {
   "cell_type": "code",
   "execution_count": null,
   "id": "1056c61c",
   "metadata": {},
   "outputs": [],
   "source": [
    "'''for column in covid.columns.drop('covid_res'):\n",
    "    fig = px.histogram(covid, x=column, color='covid_res',\n",
    "                       color_discrete_sequence=['#D2691E','#4169E1'],\n",
    "                       title=f\"Distribuição de {column}\")\n",
    "    fig.show()'''"
   ]
  },
  {
   "cell_type": "code",
   "execution_count": 44,
   "id": "221813d4",
   "metadata": {
    "scrolled": false
   },
   "outputs": [
    {
     "data": {
      "image/png": "[encoded data removed]",
      "text/plain": [
       "<Figure size 432x288 with 1 Axes>"
      ]
     },
     "metadata": {
      "needs_background": "light"
     },
     "output_type": "display_data"
    },
    {
     "data": {
      "image/png": "[encoded data removed]",
      "text/plain": [
       "<Figure size 432x288 with 1 Axes>"
      ]
     },
     "metadata": {
      "needs_background": "light"
     },
     "output_type": "display_data"
    },
    {
     "data": {
      "image/png": "[encoded data removed]",
      "text/plain": [
       "<Figure size 432x288 with 1 Axes>"
      ]
     },
     "metadata": {
      "needs_background": "light"
     },
     "output_type": "display_data"
    },
    {
     "data": {
      "image/png": "[encoded data removed]",
      "text/plain": [
       "<Figure size 432x288 with 1 Axes>"
      ]
     },
     "metadata": {
      "needs_background": "light"
     },
     "output_type": "display_data"
    },
    {
     "data": {
      "image/png": "[encoded data removed]",
      "text/plain": [
       "<Figure size 432x288 with 1 Axes>"
      ]
     },
     "metadata": {
      "needs_background": "light"
     },
     "output_type": "display_data"
    },
    {
     "data": {
      "image/png": "[encoded data removed]",
      "text/plain": [
       "<Figure size 432x288 with 1 Axes>"
      ]
     },
     "metadata": {
      "needs_background": "light"
     },
     "output_type": "display_data"
    },
    {
     "data": {
      "image/png": "[encoded data removed]",
      "text/plain": [
       "<Figure size 432x288 with 1 Axes>"
      ]
     },
     "metadata": {
      "needs_background": "light"
     },
     "output_type": "display_data"
    },
    {
     "data": {
      "image/png": "[encoded data removed]",
      "text/plain": [
       "<Figure size 432x288 with 1 Axes>"
      ]
     },
     "metadata": {
      "needs_background": "light"
     },
     "output_type": "display_data"
    },
    {
     "data": {
      "image/png": "[encoded data removed]",
      "text/plain": [
       "<Figure size 432x288 with 1 Axes>"
      ]
     },
     "metadata": {
      "needs_background": "light"
     },
     "output_type": "display_data"
    },
    {
     "data": {
      "image/png": "[encoded data removed]",
      "text/plain": [
       "<Figure size 432x288 with 1 Axes>"
      ]
     },
     "metadata": {
      "needs_background": "light"
     },
     "output_type": "display_data"
    },
    {
     "data": {
      "image/png": "[encoded data removed]",
      "text/plain": [
       "<Figure size 432x288 with 1 Axes>"
      ]
     },
     "metadata": {
      "needs_background": "light"
     },
     "output_type": "display_data"
    },
    {
     "data": {
      "image/png": "[encoded data removed]",
      "text/plain": [
       "<Figure size 432x288 with 1 Axes>"
      ]
     },
     "metadata": {
      "needs_background": "light"
     },
     "output_type": "display_data"
    },
    {
     "data": {
      "image/png": "[encoded data removed]",
      "text/plain": [
       "<Figure size 432x288 with 1 Axes>"
      ]
     },
     "metadata": {
      "needs_background": "light"
     },
     "output_type": "display_data"
    },
    {
     "data": {
      "image/png": "[encoded data removed]",
      "text/plain": [
       "<Figure size 432x288 with 1 Axes>"
      ]
     },
     "metadata": {
      "needs_background": "light"
     },
     "output_type": "display_data"
    },
    {
     "data": {
      "image/png": "[encoded data removed]",
      "text/plain": [
       "<Figure size 432x288 with 1 Axes>"
      ]
     },
     "metadata": {
      "needs_background": "light"
     },
     "output_type": "display_data"
    },
    {
     "data": {
      "image/png": "[encoded data removed]",
      "text/plain": [
       "<Figure size 432x288 with 1 Axes>"
      ]
     },
     "metadata": {
      "needs_background": "light"
     },
     "output_type": "display_data"
    },
    {
     "data": {
      "image/png": "[encoded data removed]",
      "text/plain": [
       "<Figure size 432x288 with 1 Axes>"
      ]
     },
     "metadata": {
      "needs_background": "light"
     },
     "output_type": "display_data"
    },
    {
     "data": {
      "image/png": "[encoded data removed]",
      "text/plain": [
       "<Figure size 432x288 with 1 Axes>"
      ]
     },
     "metadata": {
      "needs_background": "light"
     },
     "output_type": "display_data"
    }
   ],
   "source": [
    "for column in covid.columns.drop('covid_res'):\n",
    "    sns.countplot(data=covid, x=column, hue='covid_res', palette=['#4169E1','#D2691E']).set_title(f\"Distribuição de {column}\")\n",
    "    plt.show()"
   ]
  },
  {
   "cell_type": "markdown",
   "id": "34bc155b",
   "metadata": {},
   "source": [
    "Podemos ver a partir das *views* que grande maioria dos pacientes:\n",
    "- Não foi internado ou foi para casa\n",
    "- Não apresenta fatores de risco ou doenças em geral\n",
    "- Possuem idade entre 20 e 80 anos, com média de 40 anos\n",
    "\n",
    "Ademais, a distribuição de diagnósticos de COVID é sempre cerca de 60%~70% dos indivíduos para cada categoria/feature (comprova dados balanceados)."
   ]
  },
  {
   "cell_type": "markdown",
   "id": "a952b109",
   "metadata": {},
   "source": [
    "## Modelagem dos Dados <a class=\"anchor\" id=\"third-bullet\"></a>"
   ]
  },
  {
   "cell_type": "markdown",
   "id": "92c2a093",
   "metadata": {},
   "source": [
    "#### Divisão (split) dos dados"
   ]
  },
  {
   "cell_type": "code",
   "execution_count": 23,
   "id": "e41587a9",
   "metadata": {},
   "outputs": [],
   "source": [
    "random_state=42"
   ]
  },
  {
   "cell_type": "code",
   "execution_count": 24,
   "id": "b76a9743",
   "metadata": {},
   "outputs": [],
   "source": [
    "X = covid.drop(columns=\"covid_res\")\n",
    "y = covid[\"covid_res\"]\n",
    "\n",
    "X_alt = covid_alt.drop(columns=\"covid_res\")\n",
    "y_alt = covid_alt[\"covid_res\"]"
   ]
  },
  {
   "cell_type": "code",
   "execution_count": 25,
   "id": "f0773a37",
   "metadata": {},
   "outputs": [],
   "source": [
    "X_train, X_test, y_train, y_test = train_test_split(X, \n",
    "                                                    y, \n",
    "                                                    test_size=0.2, \n",
    "                                                    random_state=random_state,\n",
    "                                                    stratify=y)\n",
    "\n",
    "X_train_alt, X_test_alt, y_train_alt, y_test_alt = train_test_split(X_alt, \n",
    "                                                    y_alt, \n",
    "                                                    test_size=0.2, \n",
    "                                                    random_state=random_state,\n",
    "                                                    stratify=y_alt)"
   ]
  },
  {
   "cell_type": "markdown",
   "id": "44e3b84f",
   "metadata": {},
   "source": [
    "A princípio, como todas as nossas features são do tipo *binárias*, com exceção da idade, não há necessidade de normalização (*scaling*) dos dados, ou haveria muita pouca diferença nos resultados. Para tirar a prova, testaremos os modelos que tradicionalmente necessitam de *scaling* com esse ajuste e em seguida sem."
   ]
  },
  {
   "cell_type": "markdown",
   "id": "a98c9b23",
   "metadata": {},
   "source": [
    "#### Escolha dos modelos\n",
    "\n",
    "Para essa análise, serão testados alguns tipos diferentes de algoritmos de aprendizado de máquina, a fim de avaliarmos qual o que obtém melhor performance e capacidade de generalização (*baseline*), e em seguida será feito o seu *tuning*, para melhoria de resultados e ajustes de hiperparâmetros.\n",
    "\n",
    "Os modelos a serem testados são os seguintes:\n",
    "- Random Forest Classifier\n",
    "- Adaboost\n",
    "- K-Nearest Neighbors\n",
    "- Logistic Regression\n"
   ]
  },
  {
   "cell_type": "code",
   "execution_count": 26,
   "id": "b917a78c",
   "metadata": {},
   "outputs": [],
   "source": [
    "# imports de modelos\n",
    "from sklearn.ensemble import RandomForestClassifier\n",
    "from sklearn.ensemble import AdaBoostClassifier\n",
    "from sklearn.neighbors import KNeighborsClassifier\n",
    "from sklearn.linear_model import LogisticRegression\n",
    "\n",
    "# imports de metricas e ferramentas de report/visualização\n",
    "from sklearn.metrics import classification_report\n",
    "from mlxtend.plotting import plot_confusion_matrix\n",
    "from sklearn.metrics import confusion_matrix\n",
    "from mlxtend.plotting import plot_decision_regions\n",
    "from sklearn.metrics import classification_report\n",
    "from sklearn.preprocessing import StandardScaler\n",
    "from sklearn import metrics\n",
    "from prettytable import PrettyTable\n",
    "from pprint import pprint\n",
    "from sklearn.model_selection import GridSearchCV\n",
    "from sklearn.model_selection import RandomizedSearchCV\n",
    "from sklearn.metrics import accuracy_score"
   ]
  },
  {
   "cell_type": "markdown",
   "id": "d477e422",
   "metadata": {},
   "source": [
    "#### Random Forest Classifier"
   ]
  },
  {
   "cell_type": "code",
   "execution_count": 27,
   "id": "1499d221",
   "metadata": {},
   "outputs": [
    {
     "name": "stdout",
     "output_type": "stream",
     "text": [
      "Base considerando contato com outros diagnósticos COVID:\n",
      "              precision    recall  f1-score   support\n",
      "\n",
      "           0       0.62      0.83      0.71     55352\n",
      "           1       0.63      0.36      0.46     43638\n",
      "\n",
      "    accuracy                           0.62     98990\n",
      "   macro avg       0.63      0.60      0.59     98990\n",
      "weighted avg       0.63      0.62      0.60     98990\n",
      "\n"
     ]
    },
    {
     "data": {
      "image/png": "[encoded data removed]",
      "text/plain": [
       "<Figure size 432x288 with 1 Axes>"
      ]
     },
     "metadata": {
      "needs_background": "light"
     },
     "output_type": "display_data"
    },
    {
     "name": "stdout",
     "output_type": "stream",
     "text": [
      "============================================================\n",
      "Base desconsiderando contato com outros:\n",
      "              precision    recall  f1-score   support\n",
      "\n",
      "           0       0.62      0.84      0.72     55352\n",
      "           1       0.64      0.35      0.45     43638\n",
      "\n",
      "    accuracy                           0.63     98990\n",
      "   macro avg       0.63      0.60      0.58     98990\n",
      "weighted avg       0.63      0.63      0.60     98990\n",
      "\n"
     ]
    },
    {
     "data": {
      "image/png": "[encoded data removed]",
      "text/plain": [
       "<Figure size 432x288 with 1 Axes>"
      ]
     },
     "metadata": {
      "needs_background": "light"
     },
     "output_type": "display_data"
    },
    {
     "name": "stdout",
     "output_type": "stream",
     "text": [
      "============================================================\n"
     ]
    }
   ],
   "source": [
    "model = RandomForestClassifier(random_state=random_state)\n",
    "\n",
    "splits = [('Base considerando contato com outros diagnósticos COVID',X_train,y_train,X_test,y_test),('Base desconsiderando contato com outros',X_train_alt,y_train_alt,X_test_alt,y_test_alt)]\n",
    "for name, X_train_split, y_train_split, X_test_split, y_test_split in splits:\n",
    "    print(name+':')\n",
    "    \n",
    "    model.fit(X_train_split, y_train_split)\n",
    "    y_pred = model.predict(X_test_split)\n",
    "    print(classification_report(y_test_split, y_pred))\n",
    "    \n",
    "    cm = confusion_matrix(y_test_split, y_pred)\n",
    "    plot_confusion_matrix(conf_mat=cm)\n",
    "    plt.show()\n",
    "    \n",
    "    print('='*60)"
   ]
  },
  {
   "cell_type": "markdown",
   "id": "f7b5e718",
   "metadata": {},
   "source": [
    "#### AdaBoost"
   ]
  },
  {
   "cell_type": "code",
   "execution_count": 28,
   "id": "2892c291",
   "metadata": {},
   "outputs": [
    {
     "name": "stdout",
     "output_type": "stream",
     "text": [
      "Base considerando contato com outros diagnósticos COVID:\n",
      "              precision    recall  f1-score   support\n",
      "\n",
      "           0       0.63      0.85      0.72     55352\n",
      "           1       0.66      0.37      0.47     43638\n",
      "\n",
      "    accuracy                           0.64     98990\n",
      "   macro avg       0.65      0.61      0.60     98990\n",
      "weighted avg       0.64      0.64      0.61     98990\n",
      "\n"
     ]
    },
    {
     "data": {
      "image/png": "[encoded data removed]",
      "text/plain": [
       "<Figure size 432x288 with 1 Axes>"
      ]
     },
     "metadata": {
      "needs_background": "light"
     },
     "output_type": "display_data"
    },
    {
     "name": "stdout",
     "output_type": "stream",
     "text": [
      "============================================================\n",
      "Base desconsiderando contato com outros:\n",
      "              precision    recall  f1-score   support\n",
      "\n",
      "           0       0.63      0.86      0.72     55352\n",
      "           1       0.66      0.36      0.46     43638\n",
      "\n",
      "    accuracy                           0.64     98990\n",
      "   macro avg       0.65      0.61      0.59     98990\n",
      "weighted avg       0.64      0.64      0.61     98990\n",
      "\n"
     ]
    },
    {
     "data": {
      "image/png": "[encoded data removed]",
      "text/plain": [
       "<Figure size 432x288 with 1 Axes>"
      ]
     },
     "metadata": {
      "needs_background": "light"
     },
     "output_type": "display_data"
    },
    {
     "name": "stdout",
     "output_type": "stream",
     "text": [
      "============================================================\n"
     ]
    }
   ],
   "source": [
    "model = AdaBoostClassifier(random_state=random_state)\n",
    "\n",
    "splits = [('Base considerando contato com outros diagnósticos COVID',X_train,y_train,X_test,y_test),('Base desconsiderando contato com outros',X_train_alt,y_train_alt,X_test_alt,y_test_alt)]\n",
    "for name, X_train_split, y_train_split, X_test_split, y_test_split in splits:\n",
    "    print(name+':')\n",
    "    \n",
    "    model.fit(X_train_split, y_train_split)\n",
    "    y_pred = model.predict(X_test_split)\n",
    "    print(classification_report(y_test_split, y_pred))\n",
    "    \n",
    "    cm = confusion_matrix(y_test_split, y_pred)\n",
    "    plot_confusion_matrix(conf_mat=cm)\n",
    "    plt.show()\n",
    "    \n",
    "    print('='*60)"
   ]
  },
  {
   "cell_type": "markdown",
   "id": "a2272b78",
   "metadata": {},
   "source": [
    "#### K-Nearest Neighbors"
   ]
  },
  {
   "cell_type": "markdown",
   "id": "b4f4ea9d",
   "metadata": {},
   "source": [
    "##### Com scaling"
   ]
  },
  {
   "cell_type": "code",
   "execution_count": 29,
   "id": "39ca0a54",
   "metadata": {},
   "outputs": [
    {
     "name": "stdout",
     "output_type": "stream",
     "text": [
      "Base considerando contato com outros diagnósticos COVID:\n",
      "              precision    recall  f1-score   support\n",
      "\n",
      "           0       0.63      0.84      0.72     55352\n",
      "           1       0.65      0.37      0.47     43638\n",
      "\n",
      "    accuracy                           0.64     98990\n",
      "   macro avg       0.64      0.61      0.60     98990\n",
      "weighted avg       0.64      0.64      0.61     98990\n",
      "\n"
     ]
    },
    {
     "data": {
      "image/png": "[encoded data removed]",
      "text/plain": [
       "<Figure size 432x288 with 1 Axes>"
      ]
     },
     "metadata": {
      "needs_background": "light"
     },
     "output_type": "display_data"
    },
    {
     "name": "stdout",
     "output_type": "stream",
     "text": [
      "============================================================\n",
      "Base desconsiderando contato com outros diagnósticos COVID:\n",
      "              precision    recall  f1-score   support\n",
      "\n",
      "           0       0.63      0.85      0.72     55352\n",
      "           1       0.65      0.36      0.46     43638\n",
      "\n",
      "    accuracy                           0.63     98990\n",
      "   macro avg       0.64      0.60      0.59     98990\n",
      "weighted avg       0.64      0.63      0.61     98990\n",
      "\n"
     ]
    },
    {
     "data": {
      "image/png": "[encoded data removed]",
      "text/plain": [
       "<Figure size 432x288 with 1 Axes>"
      ]
     },
     "metadata": {
      "needs_background": "light"
     },
     "output_type": "display_data"
    },
    {
     "name": "stdout",
     "output_type": "stream",
     "text": [
      "============================================================\n"
     ]
    }
   ],
   "source": [
    "scaler = StandardScaler()\n",
    "model = LogisticRegression(random_state=random_state)\n",
    "\n",
    "X_train_std = scaler.fit_transform(X_train)\n",
    "X_test_std = scaler.transform(X_test)\n",
    "X_train_std_alt = scaler.fit_transform(X_train_alt)\n",
    "X_test_std_alt = scaler.transform(X_test_alt)\n",
    "\n",
    "splits = [('Base considerando contato com outros diagnósticos COVID',X_train_std,y_train,X_test_std,y_test),('Base desconsiderando contato com outros diagnósticos COVID',X_train_std_alt,y_train_alt,X_test_std_alt,y_test_alt)]\n",
    "for name, X_train_split, y_train_split, X_test_split, y_test_split in splits:\n",
    "    print(name+':')\n",
    "    \n",
    "    model.fit(X_train_split, y_train_split)\n",
    "    y_pred = model.predict(X_test_split)\n",
    "    print(classification_report(y_test_split, y_pred))\n",
    "    \n",
    "    cm = confusion_matrix(y_test_split, y_pred)\n",
    "    plot_confusion_matrix(conf_mat=cm, fontcolor_threshold=0.8)\n",
    "    plt.show()\n",
    "    \n",
    "    print('='*60)"
   ]
  },
  {
   "cell_type": "markdown",
   "id": "4fabf159",
   "metadata": {},
   "source": [
    "##### Sem scaling"
   ]
  },
  {
   "cell_type": "code",
   "execution_count": 30,
   "id": "ebc33899",
   "metadata": {
    "scrolled": false
   },
   "outputs": [
    {
     "name": "stdout",
     "output_type": "stream",
     "text": [
      "Número de vizinhos (k): 1\n",
      "Base considerando contato com outros diagnósticos COVID:\n",
      "              precision    recall  f1-score   support\n",
      "\n",
      "           0       0.60      0.63      0.61     55352\n",
      "           1       0.50      0.47      0.48     43638\n",
      "\n",
      "    accuracy                           0.56     98990\n",
      "   macro avg       0.55      0.55      0.55     98990\n",
      "weighted avg       0.55      0.56      0.55     98990\n",
      "\n"
     ]
    },
    {
     "data": {
      "image/png": "[encoded data removed]",
      "text/plain": [
       "<Figure size 432x288 with 1 Axes>"
      ]
     },
     "metadata": {
      "needs_background": "light"
     },
     "output_type": "display_data"
    },
    {
     "name": "stdout",
     "output_type": "stream",
     "text": [
      "============================================================\n",
      "Base desconsiderando contato com outros diagnósticos COVID:\n",
      "              precision    recall  f1-score   support\n",
      "\n",
      "           0       0.60      0.62      0.61     55352\n",
      "           1       0.49      0.47      0.48     43638\n",
      "\n",
      "    accuracy                           0.55     98990\n",
      "   macro avg       0.54      0.54      0.54     98990\n",
      "weighted avg       0.55      0.55      0.55     98990\n",
      "\n"
     ]
    },
    {
     "data": {
      "image/png": "[encoded data removed]",
      "text/plain": [
       "<Figure size 432x288 with 1 Axes>"
      ]
     },
     "metadata": {
      "needs_background": "light"
     },
     "output_type": "display_data"
    },
    {
     "name": "stdout",
     "output_type": "stream",
     "text": [
      "============================================================\n",
      "Número de vizinhos (k): 3\n",
      "Base considerando contato com outros diagnósticos COVID:\n",
      "              precision    recall  f1-score   support\n",
      "\n",
      "           0       0.61      0.66      0.63     55352\n",
      "           1       0.52      0.46      0.49     43638\n",
      "\n",
      "    accuracy                           0.57     98990\n",
      "   macro avg       0.56      0.56      0.56     98990\n",
      "weighted avg       0.57      0.57      0.57     98990\n",
      "\n"
     ]
    },
    {
     "data": {
      "image/png": "[encoded data removed]",
      "text/plain": [
       "<Figure size 432x288 with 1 Axes>"
      ]
     },
     "metadata": {
      "needs_background": "light"
     },
     "output_type": "display_data"
    },
    {
     "name": "stdout",
     "output_type": "stream",
     "text": [
      "============================================================\n",
      "Base desconsiderando contato com outros diagnósticos COVID:\n",
      "              precision    recall  f1-score   support\n",
      "\n",
      "           0       0.61      0.68      0.64     55352\n",
      "           1       0.52      0.44      0.48     43638\n",
      "\n",
      "    accuracy                           0.57     98990\n",
      "   macro avg       0.56      0.56      0.56     98990\n",
      "weighted avg       0.57      0.57      0.57     98990\n",
      "\n"
     ]
    },
    {
     "data": {
      "image/png": "[encoded data removed]",
      "text/plain": [
       "<Figure size 432x288 with 1 Axes>"
      ]
     },
     "metadata": {
      "needs_background": "light"
     },
     "output_type": "display_data"
    },
    {
     "name": "stdout",
     "output_type": "stream",
     "text": [
      "============================================================\n",
      "Número de vizinhos (k): 5\n",
      "Base considerando contato com outros diagnósticos COVID:\n",
      "              precision    recall  f1-score   support\n",
      "\n",
      "           0       0.62      0.66      0.64     55352\n",
      "           1       0.53      0.48      0.50     43638\n",
      "\n",
      "    accuracy                           0.58     98990\n",
      "   macro avg       0.57      0.57      0.57     98990\n",
      "weighted avg       0.58      0.58      0.58     98990\n",
      "\n"
     ]
    },
    {
     "data": {
      "image/png": "[encoded data removed]",
      "text/plain": [
       "<Figure size 432x288 with 1 Axes>"
      ]
     },
     "metadata": {
      "needs_background": "light"
     },
     "output_type": "display_data"
    },
    {
     "name": "stdout",
     "output_type": "stream",
     "text": [
      "============================================================\n",
      "Base desconsiderando contato com outros diagnósticos COVID:\n",
      "              precision    recall  f1-score   support\n",
      "\n",
      "           0       0.61      0.64      0.63     55352\n",
      "           1       0.52      0.49      0.50     43638\n",
      "\n",
      "    accuracy                           0.57     98990\n",
      "   macro avg       0.57      0.57      0.57     98990\n",
      "weighted avg       0.57      0.57      0.57     98990\n",
      "\n"
     ]
    },
    {
     "data": {
      "image/png": "[encoded data removed]",
      "text/plain": [
       "<Figure size 432x288 with 1 Axes>"
      ]
     },
     "metadata": {
      "needs_background": "light"
     },
     "output_type": "display_data"
    },
    {
     "name": "stdout",
     "output_type": "stream",
     "text": [
      "============================================================\n",
      "Número de vizinhos (k): 8\n",
      "Base considerando contato com outros diagnósticos COVID:\n",
      "              precision    recall  f1-score   support\n",
      "\n",
      "           0       0.61      0.79      0.69     55352\n",
      "           1       0.58      0.37      0.45     43638\n",
      "\n",
      "    accuracy                           0.61     98990\n",
      "   macro avg       0.60      0.58      0.57     98990\n",
      "weighted avg       0.60      0.61      0.59     98990\n",
      "\n"
     ]
    },
    {
     "data": {
      "image/png": "[encoded data removed]",
      "text/plain": [
       "<Figure size 432x288 with 1 Axes>"
      ]
     },
     "metadata": {
      "needs_background": "light"
     },
     "output_type": "display_data"
    },
    {
     "name": "stdout",
     "output_type": "stream",
     "text": [
      "============================================================\n",
      "Base desconsiderando contato com outros diagnósticos COVID:\n",
      "              precision    recall  f1-score   support\n",
      "\n",
      "           0       0.61      0.79      0.69     55352\n",
      "           1       0.58      0.37      0.45     43638\n",
      "\n",
      "    accuracy                           0.60     98990\n",
      "   macro avg       0.60      0.58      0.57     98990\n",
      "weighted avg       0.60      0.60      0.59     98990\n",
      "\n"
     ]
    },
    {
     "data": {
      "image/png": "[encoded data removed]",
      "text/plain": [
       "<Figure size 432x288 with 1 Axes>"
      ]
     },
     "metadata": {
      "needs_background": "light"
     },
     "output_type": "display_data"
    },
    {
     "name": "stdout",
     "output_type": "stream",
     "text": [
      "============================================================\n"
     ]
    }
   ],
   "source": [
    "list_k = [1,3,5,8]\n",
    "\n",
    "for k in list_k:\n",
    "    print('Número de vizinhos (k):',k)\n",
    "    model = KNeighborsClassifier(n_neighbors=k)\n",
    "\n",
    "    splits = [('Base considerando contato com outros diagnósticos COVID',X_train,y_train,X_test,y_test),('Base desconsiderando contato com outros diagnósticos COVID',X_train_alt,y_train_alt,X_test_alt,y_test_alt)]\n",
    "    for name, X_train_split, y_train_split, X_test_split, y_test_split in splits:\n",
    "        print(name+':')\n",
    "\n",
    "        model.fit(X_train_split, y_train_split)\n",
    "        y_pred = model.predict(X_test_split)\n",
    "        print(classification_report(y_test_split, y_pred))\n",
    "\n",
    "        cm = confusion_matrix(y_test_split, y_pred)\n",
    "        plot_confusion_matrix(conf_mat=cm, fontcolor_threshold=0.8)\n",
    "        plt.show()\n",
    "\n",
    "        print('='*60)"
   ]
  },
  {
   "cell_type": "markdown",
   "id": "350d3c39",
   "metadata": {},
   "source": [
    "#### Regressão Logística"
   ]
  },
  {
   "cell_type": "markdown",
   "id": "cf2c49a3",
   "metadata": {},
   "source": [
    "##### Com scaling"
   ]
  },
  {
   "cell_type": "code",
   "execution_count": 31,
   "id": "8fbb81ac",
   "metadata": {},
   "outputs": [
    {
     "name": "stdout",
     "output_type": "stream",
     "text": [
      "Base considerando contato com outros diagnósticos COVID:\n",
      "              precision    recall  f1-score   support\n",
      "\n",
      "           0       0.63      0.84      0.72     55352\n",
      "           1       0.65      0.37      0.47     43638\n",
      "\n",
      "    accuracy                           0.64     98990\n",
      "   macro avg       0.64      0.61      0.60     98990\n",
      "weighted avg       0.64      0.64      0.61     98990\n",
      "\n"
     ]
    },
    {
     "data": {
      "image/png": "[encoded data removed]",
      "text/plain": [
       "<Figure size 432x288 with 1 Axes>"
      ]
     },
     "metadata": {
      "needs_background": "light"
     },
     "output_type": "display_data"
    },
    {
     "name": "stdout",
     "output_type": "stream",
     "text": [
      "============================================================\n",
      "Base desconsiderando contato com outros diagnósticos COVID:\n",
      "              precision    recall  f1-score   support\n",
      "\n",
      "           0       0.63      0.85      0.72     55352\n",
      "           1       0.65      0.36      0.46     43638\n",
      "\n",
      "    accuracy                           0.63     98990\n",
      "   macro avg       0.64      0.60      0.59     98990\n",
      "weighted avg       0.64      0.63      0.61     98990\n",
      "\n"
     ]
    },
    {
     "data": {
      "image/png": "[encoded data removed]",
      "text/plain": [
       "<Figure size 432x288 with 1 Axes>"
      ]
     },
     "metadata": {
      "needs_background": "light"
     },
     "output_type": "display_data"
    },
    {
     "name": "stdout",
     "output_type": "stream",
     "text": [
      "============================================================\n"
     ]
    }
   ],
   "source": [
    "scaler = StandardScaler()\n",
    "model = LogisticRegression(random_state=random_state)\n",
    "\n",
    "X_train_std = scaler.fit_transform(X_train)\n",
    "X_test_std = scaler.transform(X_test)\n",
    "X_train_std_alt = scaler.fit_transform(X_train_alt)\n",
    "X_test_std_alt = scaler.transform(X_test_alt)\n",
    "\n",
    "splits = [('Base considerando contato com outros diagnósticos COVID',X_train_std,y_train,X_test_std,y_test),('Base desconsiderando contato com outros diagnósticos COVID',X_train_std_alt,y_train_alt,X_test_std_alt,y_test_alt)]\n",
    "for name, X_train_split, y_train_split, X_test_split, y_test_split in splits:\n",
    "    print(name+':')\n",
    "    \n",
    "    model.fit(X_train_split, y_train_split)\n",
    "    y_pred = model.predict(X_test_split)\n",
    "    print(classification_report(y_test_split, y_pred))\n",
    "    \n",
    "    cm = confusion_matrix(y_test_split, y_pred)\n",
    "    plot_confusion_matrix(conf_mat=cm, fontcolor_threshold=0.8)\n",
    "    plt.show()\n",
    "    \n",
    "    print('='*60)"
   ]
  },
  {
   "cell_type": "markdown",
   "id": "4d0a47bb",
   "metadata": {},
   "source": [
    "##### Sem scaling"
   ]
  },
  {
   "cell_type": "code",
   "execution_count": 32,
   "id": "cc912d9a",
   "metadata": {},
   "outputs": [
    {
     "name": "stdout",
     "output_type": "stream",
     "text": [
      "Base considerando contato com outros diagnósticos COVID:\n"
     ]
    },
    {
     "name": "stderr",
     "output_type": "stream",
     "text": [
      "C:\\Users\\victo\\anaconda3\\lib\\site-packages\\sklearn\\linear_model\\_logistic.py:763: ConvergenceWarning:\n",
      "\n",
      "lbfgs failed to converge (status=1):\n",
      "STOP: TOTAL NO. of ITERATIONS REACHED LIMIT.\n",
      "\n",
      "Increase the number of iterations (max_iter) or scale the data as shown in:\n",
      "    https://scikit-learn.org/stable/modules/preprocessing.html\n",
      "Please also refer to the documentation for alternative solver options:\n",
      "    https://scikit-learn.org/stable/modules/linear_model.html#logistic-regression\n",
      "\n"
     ]
    },
    {
     "name": "stdout",
     "output_type": "stream",
     "text": [
      "              precision    recall  f1-score   support\n",
      "\n",
      "           0       0.63      0.85      0.72     55352\n",
      "           1       0.65      0.37      0.47     43638\n",
      "\n",
      "    accuracy                           0.64     98990\n",
      "   macro avg       0.64      0.61      0.60     98990\n",
      "weighted avg       0.64      0.64      0.61     98990\n",
      "\n"
     ]
    },
    {
     "data": {
      "image/png": "[encoded data removed]",
      "text/plain": [
       "<Figure size 432x288 with 1 Axes>"
      ]
     },
     "metadata": {
      "needs_background": "light"
     },
     "output_type": "display_data"
    },
    {
     "name": "stdout",
     "output_type": "stream",
     "text": [
      "============================================================\n",
      "Base desconsiderando contato com outros diagnósticos COVID:\n"
     ]
    },
    {
     "name": "stderr",
     "output_type": "stream",
     "text": [
      "C:\\Users\\victo\\anaconda3\\lib\\site-packages\\sklearn\\linear_model\\_logistic.py:763: ConvergenceWarning:\n",
      "\n",
      "lbfgs failed to converge (status=1):\n",
      "STOP: TOTAL NO. of ITERATIONS REACHED LIMIT.\n",
      "\n",
      "Increase the number of iterations (max_iter) or scale the data as shown in:\n",
      "    https://scikit-learn.org/stable/modules/preprocessing.html\n",
      "Please also refer to the documentation for alternative solver options:\n",
      "    https://scikit-learn.org/stable/modules/linear_model.html#logistic-regression\n",
      "\n"
     ]
    },
    {
     "name": "stdout",
     "output_type": "stream",
     "text": [
      "              precision    recall  f1-score   support\n",
      "\n",
      "           0       0.63      0.85      0.72     55352\n",
      "           1       0.65      0.36      0.46     43638\n",
      "\n",
      "    accuracy                           0.63     98990\n",
      "   macro avg       0.64      0.60      0.59     98990\n",
      "weighted avg       0.64      0.63      0.61     98990\n",
      "\n"
     ]
    },
    {
     "data": {
      "image/png": "[encoded data removed]",
      "text/plain": [
       "<Figure size 432x288 with 1 Axes>"
      ]
     },
     "metadata": {
      "needs_background": "light"
     },
     "output_type": "display_data"
    },
    {
     "name": "stdout",
     "output_type": "stream",
     "text": [
      "============================================================\n"
     ]
    }
   ],
   "source": [
    "model = LogisticRegression(random_state=random_state, max_iter=100)\n",
    "\n",
    "splits = [('Base considerando contato com outros diagnósticos COVID',X_train,y_train,X_test,y_test),('Base desconsiderando contato com outros diagnósticos COVID',X_train_alt,y_train_alt,X_test_alt,y_test_alt)]\n",
    "for name, X_train_split, y_train_split, X_test_split, y_test_split in splits:\n",
    "    print(name+':')\n",
    "    \n",
    "    model.fit(X_train_split, y_train_split)\n",
    "    y_pred = model.predict(X_test_split)\n",
    "    print(classification_report(y_test_split, y_pred))\n",
    "    \n",
    "    cm = confusion_matrix(y_test_split, y_pred)\n",
    "    plot_confusion_matrix(conf_mat=cm, fontcolor_threshold=0.8)\n",
    "    plt.show()\n",
    "    \n",
    "    print('='*60)"
   ]
  },
  {
   "cell_type": "markdown",
   "id": "1103549e",
   "metadata": {},
   "source": [
    "Desde já é importante destacar o papel do *recall* neste tipo de abordagem: como se trata de doença contagiosa (epidemiológica), devem ser identificados idealmente todos os casos tidos como positivos **(target = 1)**. Por mais que um *recall* alto faça com que casos negativos **(target = 0)** sejam identificados como positivos (falsos positivos), este cenário é mais aceitável do que termos muitos falsos negativos, porque neste último estaríamos permitindo que indivíduos potencialmente com a doença em estágio altamente transmissível circulem livremente sem saberem que estão na verdade positivos. Portanto, a otimização futuramente se dará tendo em vista a maximização do *recall*."
   ]
  },
  {
   "cell_type": "markdown",
   "id": "62a88178",
   "metadata": {},
   "source": [
    "Pode-se observar desde já que em todos os casos testados, a base de treino considerando a coluna de \"teve contato com outros positivos para COVID\" obteve melhores resultados.\n",
    "\n",
    "Conforme mencionado anteriormente, há pouquíssima diferença entre usar ou não o *scaling* das features, portanto opta-se por não utilizar nesse caso em específico.\n",
    "\n",
    "O algoritmo de K-Neighbors requer um grande tempo e esforço computacional para treinar o modelo, por isso testou-se arbitrariamente alguns valores de K vizinhos para avaliar se o modelo é um bom candidato para o *baseline*. Sua métrica de *recall* se sobressaiu com relação a outros. Apesar do algoritmo necessitar de padronização e normalização dos dados, como todas as *features* são 1 ou 0, considerou-se razoável implementá-lo sem scaling.\n",
    "\n",
    "Os scores considerando o objetivo de identificar quem *não tem* COVID ficaram razoáveis.\n",
    "\n",
    "Já considerando o objetivo de identificar pacientes positivos para COVID, apesar do score de *precisão* ter sido razoável, o *recall* é muito baixo."
   ]
  },
  {
   "cell_type": "markdown",
   "id": "0a319520",
   "metadata": {},
   "source": [
    "#### Implementação em pipeline"
   ]
  },
  {
   "cell_type": "markdown",
   "id": "ee0be3c0",
   "metadata": {},
   "source": [
    "A fim de compararmos as métricas de todos os modelos testados, e agora levando em conta somente o caso que possui todas as features, implementaremos um pipeline para instanciar e treiná-los, além de plotar as curvas ROC-AUC de cada um e um resumo das métricas de avaliação."
   ]
  },
  {
   "cell_type": "code",
   "execution_count": 45,
   "id": "9b4c0b00",
   "metadata": {},
   "outputs": [],
   "source": [
    "def test_models_plot_roc_auc_curve(\n",
    "        model_list,\n",
    "        X_train,\n",
    "        X_test,\n",
    "        y_train,\n",
    "        y_test):\n",
    "    \"\"\"\n",
    "        model_list: Lista de modelos a serem testados\n",
    "                    Formato (List[Dict[model_name|estimator, name|Model]])\n",
    "        X_train: Dados de treino (features)\n",
    "        X_test: Dados de teste (features)\n",
    "        y_train: Dados de treino (alvo)\n",
    "        y_test: Dados de teste (alvo)\n",
    "    \"\"\"\n",
    "\n",
    "    response = {}\n",
    "    for mdl in model_list:\n",
    "        model = mdl.get('estimator')\n",
    "        model.fit(X_train, y_train)\n",
    "        y_predict = model.predict(X_test)\n",
    "\n",
    "        \n",
    "        fpr, tpr, thresholds = metrics.roc_curve(y_test, model.predict_proba(X_test)[:,1])\n",
    "\n",
    "        model_name = mdl.get('model_name')\n",
    "        accuracy = metrics.accuracy_score(y_test, y_predict)\n",
    "        auc = metrics.roc_auc_score(y_test, model.predict(X_test))\n",
    "        precision = metrics.precision_score(y_test, y_predict, average='weighted')\n",
    "        recall = metrics.recall_score(y_test, y_predict, average='weighted')\n",
    "        f1_score = metrics.f1_score(y_test, y_predict, average='weighted')\n",
    "        plt.plot(fpr, tpr, label='%s ROC (AUC = %0.2f)' % (mdl.get('model_name'), auc))\n",
    "\n",
    "        print(f\"Model      : {model_name}\")\n",
    "        print(f\"Accuracy   : {accuracy:.4f} \")\n",
    "        print(f\"Precision  : {precision:.4f}\")\n",
    "        print(f\"Recall     : {recall:.4f}\")\n",
    "        print(f\"F1 - Score : {f1_score:.4f} \")\n",
    "        print(f\"ROC - AUC  : {auc:.4f} \")\n",
    "        print(\"======================\")\n",
    "\n",
    "        response[mdl.get('model_name')]  = {\n",
    "            \"accuracy\": accuracy,\n",
    "            \"precision\": precision,\n",
    "            \"recall\": recall,\n",
    "            \"f1_score\": f1_score,\n",
    "            \"auc\": auc,\n",
    "        }\n",
    "        \n",
    "\n",
    "    plt.plot([0, 1], [0, 1],'r--')\n",
    "    plt.xlim([0.0, 1.0])\n",
    "    plt.ylim([0.0, 1.05])\n",
    "    plt.xlabel('False Positive Rate')\n",
    "    plt.ylabel('True Positive Rate')\n",
    "    plt.title('ROC-AUC curve')\n",
    "    plt.legend(loc=\"lower right\")\n",
    "    plt.show()\n",
    "    return response\n"
   ]
  },
  {
   "cell_type": "code",
   "execution_count": 46,
   "id": "bfc697d4",
   "metadata": {},
   "outputs": [],
   "source": [
    "list_models = [\n",
    "  {\n",
    "      \"model_name\": \"Random Forest\",\n",
    "      \"estimator\": RandomForestClassifier(random_state=random_state)\n",
    "  },\n",
    "  {\n",
    "      \"model_name\": \"AdaBoost\",\n",
    "      \"estimator\": AdaBoostClassifier(random_state=random_state)\n",
    "  },\n",
    "  {\n",
    "      \"model_name\": \"KNeighbors\",\n",
    "      \"estimator\": KNeighborsClassifier(n_neighbors=5)\n",
    "  },\n",
    "  {\n",
    "      \"model_name\": \"LogisticRegression\",\n",
    "      \"estimator\": LogisticRegression(random_state=random_state)\n",
    "  }\n",
    "]"
   ]
  },
  {
   "cell_type": "markdown",
   "id": "9bef8341",
   "metadata": {},
   "source": [
    "Mais uma vez, vamos treinar o pipeline dos métodos com e sem *scaling* dos dados e comparar os resultados:"
   ]
  },
  {
   "cell_type": "markdown",
   "id": "17e689f4",
   "metadata": {},
   "source": [
    "#### Com scaling"
   ]
  },
  {
   "cell_type": "code",
   "execution_count": 47,
   "id": "d7497e70",
   "metadata": {},
   "outputs": [
    {
     "name": "stdout",
     "output_type": "stream",
     "text": [
      "Model      : Random Forest\n",
      "Accuracy   : 0.6246 \n",
      "Precision  : 0.6254\n",
      "Recall     : 0.6246\n",
      "F1 - Score : 0.6015 \n",
      "ROC - AUC  : 0.5971 \n",
      "======================\n",
      "Model      : AdaBoost\n",
      "Accuracy   : 0.6382 \n",
      "Precision  : 0.6438\n",
      "Recall     : 0.6382\n",
      "F1 - Score : 0.6139 \n",
      "ROC - AUC  : 0.6097 \n",
      "======================\n",
      "Model      : KNeighbors\n",
      "Accuracy   : 0.5839 \n",
      "Precision  : 0.5802\n",
      "Recall     : 0.5839\n",
      "F1 - Score : 0.5810 \n",
      "ROC - AUC  : 0.5729 \n",
      "======================\n",
      "Model      : LogisticRegression\n",
      "Accuracy   : 0.6350 \n",
      "Precision  : 0.6394\n",
      "Recall     : 0.6350\n",
      "F1 - Score : 0.6110 \n",
      "ROC - AUC  : 0.6068 \n",
      "======================\n"
     ]
    },
    {
     "data": {
      "image/png": "[encoded data removed]",
      "text/plain": [
       "<Figure size 432x288 with 1 Axes>"
      ]
     },
     "metadata": {
      "needs_background": "light"
     },
     "output_type": "display_data"
    }
   ],
   "source": [
    "scaler = StandardScaler()\n",
    "\n",
    "X_train_std = scaler.fit_transform(X_train)\n",
    "X_test_std = scaler.transform(X_test)\n",
    "\n",
    "pipeline_response = test_models_plot_roc_auc_curve(\n",
    "    list_models,\n",
    "    X_train_std,\n",
    "    X_test_std,\n",
    "    y_train,\n",
    "    y_test\n",
    ")"
   ]
  },
  {
   "cell_type": "markdown",
   "id": "88effa7c",
   "metadata": {},
   "source": [
    "#### Sem scaling"
   ]
  },
  {
   "cell_type": "code",
   "execution_count": 48,
   "id": "45ab1ca2",
   "metadata": {},
   "outputs": [
    {
     "name": "stdout",
     "output_type": "stream",
     "text": [
      "Model      : Random Forest\n",
      "Accuracy   : 0.6247 \n",
      "Precision  : 0.6256\n",
      "Recall     : 0.6247\n",
      "F1 - Score : 0.6016 \n",
      "ROC - AUC  : 0.5972 \n",
      "======================\n",
      "Model      : AdaBoost\n",
      "Accuracy   : 0.6382 \n",
      "Precision  : 0.6438\n",
      "Recall     : 0.6382\n",
      "F1 - Score : 0.6139 \n",
      "ROC - AUC  : 0.6097 \n",
      "======================\n",
      "Model      : KNeighbors\n",
      "Accuracy   : 0.5794 \n",
      "Precision  : 0.5758\n",
      "Recall     : 0.5794\n",
      "F1 - Score : 0.5767 \n",
      "ROC - AUC  : 0.5686 \n",
      "======================\n"
     ]
    },
    {
     "name": "stderr",
     "output_type": "stream",
     "text": [
      "C:\\Users\\victo\\anaconda3\\lib\\site-packages\\sklearn\\linear_model\\_logistic.py:763: ConvergenceWarning:\n",
      "\n",
      "lbfgs failed to converge (status=1):\n",
      "STOP: TOTAL NO. of ITERATIONS REACHED LIMIT.\n",
      "\n",
      "Increase the number of iterations (max_iter) or scale the data as shown in:\n",
      "    https://scikit-learn.org/stable/modules/preprocessing.html\n",
      "Please also refer to the documentation for alternative solver options:\n",
      "    https://scikit-learn.org/stable/modules/linear_model.html#logistic-regression\n",
      "\n"
     ]
    },
    {
     "name": "stdout",
     "output_type": "stream",
     "text": [
      "Model      : LogisticRegression\n",
      "Accuracy   : 0.6351 \n",
      "Precision  : 0.6395\n",
      "Recall     : 0.6351\n",
      "F1 - Score : 0.6111 \n",
      "ROC - AUC  : 0.6069 \n",
      "======================\n"
     ]
    },
    {
     "data": {
      "image/png": "[encoded data removed]",
      "text/plain": [
       "<Figure size 432x288 with 1 Axes>"
      ]
     },
     "metadata": {
      "needs_background": "light"
     },
     "output_type": "display_data"
    }
   ],
   "source": [
    "pipeline_response = test_models_plot_roc_auc_curve(\n",
    "    list_models,\n",
    "    X_train,\n",
    "    X_test,\n",
    "    y_train,\n",
    "    y_test\n",
    ")"
   ]
  },
  {
   "cell_type": "code",
   "execution_count": 49,
   "id": "13ac5bc2",
   "metadata": {},
   "outputs": [
    {
     "name": "stdout",
     "output_type": "stream",
     "text": [
      "+--------------------+----------+-----------+--------+----------+-------+\n",
      "|       modelo       | accuracy | precision | recall | f1_score |  auc  |\n",
      "+--------------------+----------+-----------+--------+----------+-------+\n",
      "|   Random Forest    |  62.47   |   62.56   | 62.47  |  60.16   | 59.72 |\n",
      "|      AdaBoost      |  63.82   |   64.38   | 63.82  |  61.39   | 60.97 |\n",
      "|     KNeighbors     |  57.94   |   57.58   | 57.94  |  57.67   | 56.86 |\n",
      "| LogisticRegression |  63.51   |   63.95   | 63.51  |  61.11   | 60.69 |\n",
      "+--------------------+----------+-----------+--------+----------+-------+\n"
     ]
    }
   ],
   "source": [
    "lista_metricas = list(pipeline_response[list(pipeline_response.keys())[0]].keys())\n",
    "t = PrettyTable()\n",
    "t.field_names = ['modelo'] + lista_metricas\n",
    "\n",
    "for modelo in pipeline_response.keys():\n",
    "    metricas = list(pipeline_response[modelo].values())\n",
    "    metricas_fmt = [f\"{metrica*100:.2f}\" for metrica in metricas]\n",
    "\n",
    "    t.add_row(\n",
    "        [modelo] + metricas_fmt\n",
    "    )\n",
    "print(t)"
   ]
  },
  {
   "cell_type": "markdown",
   "id": "e42a1ec2",
   "metadata": {},
   "source": [
    "## Otimização do Modelo <a class=\"anchor\" id=\"fourth-bullet\"></a>"
   ]
  },
  {
   "cell_type": "markdown",
   "id": "a05a6903",
   "metadata": {},
   "source": [
    "Nesta etapa iremos otimizar os dois modelos *baseline* que apresentaram melhor performance, a princípio, que foram os modelos de  **Adaboost** e **Regressão Logística**.\n",
    "\n",
    "Para isso, primeiramente escolhemos alguns dos principais hiperparâmetros de cada um e criamos uma lista, variando entre valores que façam sentido para nossa aplicação."
   ]
  },
  {
   "cell_type": "code",
   "execution_count": 50,
   "id": "fa6fa0bb",
   "metadata": {},
   "outputs": [
    {
     "name": "stdout",
     "output_type": "stream",
     "text": [
      "Parâmetros do Adaboost:\n",
      "{'C': 1.0,\n",
      " 'class_weight': None,\n",
      " 'dual': False,\n",
      " 'fit_intercept': True,\n",
      " 'intercept_scaling': 1,\n",
      " 'l1_ratio': None,\n",
      " 'max_iter': 100,\n",
      " 'multi_class': 'auto',\n",
      " 'n_jobs': None,\n",
      " 'penalty': 'l2',\n",
      " 'random_state': 42,\n",
      " 'solver': 'lbfgs',\n",
      " 'tol': 0.0001,\n",
      " 'verbose': 0,\n",
      " 'warm_start': False}\n",
      "Parâmetros da LogisticRegression:\n",
      "{'C': 1.0,\n",
      " 'class_weight': None,\n",
      " 'dual': False,\n",
      " 'fit_intercept': True,\n",
      " 'intercept_scaling': 1,\n",
      " 'l1_ratio': None,\n",
      " 'max_iter': 100,\n",
      " 'multi_class': 'auto',\n",
      " 'n_jobs': None,\n",
      " 'penalty': 'l2',\n",
      " 'random_state': 42,\n",
      " 'solver': 'lbfgs',\n",
      " 'tol': 0.0001,\n",
      " 'verbose': 0,\n",
      " 'warm_start': False}\n"
     ]
    }
   ],
   "source": [
    "model_adaboost = AdaBoostClassifier(random_state=random_state)\n",
    "print(\"Parâmetros do Adaboost:\")\n",
    "pprint(model.get_params())\n",
    "\n",
    "model_logreg = LogisticRegression(random_state=random_state)\n",
    "print(\"Parâmetros da LogisticRegression:\")\n",
    "pprint(model.get_params())"
   ]
  },
  {
   "cell_type": "code",
   "execution_count": 51,
   "id": "08af1527",
   "metadata": {
    "scrolled": true
   },
   "outputs": [
    {
     "name": "stdout",
     "output_type": "stream",
     "text": [
      "{'learning_rate': [1, 5, 10], 'n_estimators': [50, 175, 300]}\n"
     ]
    }
   ],
   "source": [
    "n_estimators = [int(x) for x in np.linspace(start=50, stop=300, num=3)]\n",
    "learning_rate = [1,5,10]\n",
    "\n",
    "params_grid_adaboost = {\n",
    "    'n_estimators': n_estimators,\n",
    "    'learning_rate': learning_rate\n",
    "}\n",
    "pprint(params_grid_adaboost)"
   ]
  },
  {
   "cell_type": "code",
   "execution_count": 52,
   "id": "1fdbbddf",
   "metadata": {},
   "outputs": [
    {
     "name": "stdout",
     "output_type": "stream",
     "text": [
      "{'C': [1, 3, 5],\n",
      " 'class_weight': [{0: 0.2, 1: 0.8}, {0: 0.1, 1: 0.9}, 'balanced', 'auto', None],\n",
      " 'solver': ['lbfgs', 'sag', 'saga']}\n"
     ]
    }
   ],
   "source": [
    "C = [1, 3, 5]\n",
    "class_weight = [{ 0:0.2, 1:0.8 }, { 0:0.1, 1:0.9 }, 'balanced', 'auto', None]\n",
    "solver = ['lbfgs','sag','saga']\n",
    "\n",
    "params_grid_logreg = {\n",
    "    'C': C,\n",
    "    'class_weight': class_weight,\n",
    "    'solver': solver\n",
    "}\n",
    "pprint(params_grid_logreg)"
   ]
  },
  {
   "cell_type": "markdown",
   "id": "a7c4eb81",
   "metadata": {},
   "source": [
    "Em seguida, iremos utilizar o GridSearchCV e o RandomSearchCV para buscar qual a melhor combinação possível para dados parâmetros e determinar qual o modelo que apresenta melhor performance no final das contas. Em todos os casos optou-se por utilizar 3 *folds* na validação cruzada.\n",
    "\n",
    "Testou-se a maximização do *recall* e posteriormente do F1, definida pelo parâmetro \"scoring\", porém isso levou a um valor muito baixo para as demais métricas, portanto optou-se por otimizar a **acurácia**, que é um balanço entre taxas de TP, FP, TN e FN e não prejudica significativamente a precisão nem o *recall*."
   ]
  },
  {
   "cell_type": "markdown",
   "id": "1e65d1e7",
   "metadata": {},
   "source": [
    "## GridSearchCV"
   ]
  },
  {
   "cell_type": "markdown",
   "id": "ed4ebd61",
   "metadata": {},
   "source": [
    "#### AdaBoost"
   ]
  },
  {
   "cell_type": "code",
   "execution_count": 53,
   "id": "826bf7ed",
   "metadata": {},
   "outputs": [],
   "source": [
    "grid_search_adaboost = GridSearchCV(\n",
    "    estimator=model_adaboost,\n",
    "    param_grid=params_grid_adaboost,\n",
    "    scoring='accuracy',\n",
    "    cv=3,\n",
    "    verbose=2,\n",
    "    n_jobs=-1\n",
    ")"
   ]
  },
  {
   "cell_type": "code",
   "execution_count": 54,
   "id": "9bcc054a",
   "metadata": {},
   "outputs": [
    {
     "name": "stdout",
     "output_type": "stream",
     "text": [
      "Fitting 3 folds for each of 9 candidates, totalling 27 fits\n",
      "0.5192921695959898\n",
      "Wall time: 7min 36s\n"
     ]
    }
   ],
   "source": [
    "%%time \n",
    "grid_search_adaboost.fit(X_train, y_train)\n",
    "\n",
    "print(grid_search_adaboost.cv_results_['mean_test_score'].mean())"
   ]
  },
  {
   "cell_type": "code",
   "execution_count": 55,
   "id": "8e240586",
   "metadata": {},
   "outputs": [
    {
     "data": {
      "text/plain": [
       "{'learning_rate': 1, 'n_estimators': 175}"
      ]
     },
     "execution_count": 55,
     "metadata": {},
     "output_type": "execute_result"
    }
   ],
   "source": [
    "grid_search_adaboost.best_params_"
   ]
  },
  {
   "cell_type": "code",
   "execution_count": 56,
   "id": "83144734",
   "metadata": {},
   "outputs": [
    {
     "data": {
      "text/html": [
       "<div>\n",
       "<style scoped>\n",
       "    .dataframe tbody tr th:only-of-type {\n",
       "        vertical-align: middle;\n",
       "    }\n",
       "\n",
       "    .dataframe tbody tr th {\n",
       "        vertical-align: top;\n",
       "    }\n",
       "\n",
       "    .dataframe thead th {\n",
       "        text-align: right;\n",
       "    }\n",
       "</style>\n",
       "<table border=\"1\" class=\"dataframe\">\n",
       "  <thead>\n",
       "    <tr style=\"text-align: right;\">\n",
       "      <th></th>\n",
       "      <th>0</th>\n",
       "      <th>1</th>\n",
       "      <th>2</th>\n",
       "      <th>3</th>\n",
       "      <th>4</th>\n",
       "      <th>5</th>\n",
       "      <th>6</th>\n",
       "      <th>7</th>\n",
       "      <th>8</th>\n",
       "    </tr>\n",
       "  </thead>\n",
       "  <tbody>\n",
       "    <tr>\n",
       "      <th>mean_fit_time</th>\n",
       "      <td>28.136119</td>\n",
       "      <td>97.621639</td>\n",
       "      <td>165.672184</td>\n",
       "      <td>28.010851</td>\n",
       "      <td>97.634672</td>\n",
       "      <td>165.825065</td>\n",
       "      <td>28.817186</td>\n",
       "      <td>99.79779</td>\n",
       "      <td>122.067657</td>\n",
       "    </tr>\n",
       "    <tr>\n",
       "      <th>std_fit_time</th>\n",
       "      <td>0.446186</td>\n",
       "      <td>0.979778</td>\n",
       "      <td>0.874787</td>\n",
       "      <td>0.687277</td>\n",
       "      <td>0.732783</td>\n",
       "      <td>2.437344</td>\n",
       "      <td>0.108125</td>\n",
       "      <td>2.643566</td>\n",
       "      <td>20.655743</td>\n",
       "    </tr>\n",
       "    <tr>\n",
       "      <th>mean_score_time</th>\n",
       "      <td>3.759798</td>\n",
       "      <td>12.960221</td>\n",
       "      <td>22.399293</td>\n",
       "      <td>3.864215</td>\n",
       "      <td>13.503656</td>\n",
       "      <td>19.7984</td>\n",
       "      <td>4.361252</td>\n",
       "      <td>12.941791</td>\n",
       "      <td>10.366655</td>\n",
       "    </tr>\n",
       "    <tr>\n",
       "      <th>std_score_time</th>\n",
       "      <td>0.152179</td>\n",
       "      <td>0.365824</td>\n",
       "      <td>0.584454</td>\n",
       "      <td>0.141003</td>\n",
       "      <td>0.291549</td>\n",
       "      <td>4.208666</td>\n",
       "      <td>0.308641</td>\n",
       "      <td>0.452954</td>\n",
       "      <td>1.91331</td>\n",
       "    </tr>\n",
       "    <tr>\n",
       "      <th>param_learning_rate</th>\n",
       "      <td>1</td>\n",
       "      <td>1</td>\n",
       "      <td>1</td>\n",
       "      <td>5</td>\n",
       "      <td>5</td>\n",
       "      <td>5</td>\n",
       "      <td>10</td>\n",
       "      <td>10</td>\n",
       "      <td>10</td>\n",
       "    </tr>\n",
       "    <tr>\n",
       "      <th>param_n_estimators</th>\n",
       "      <td>50</td>\n",
       "      <td>175</td>\n",
       "      <td>300</td>\n",
       "      <td>50</td>\n",
       "      <td>175</td>\n",
       "      <td>300</td>\n",
       "      <td>50</td>\n",
       "      <td>175</td>\n",
       "      <td>300</td>\n",
       "    </tr>\n",
       "    <tr>\n",
       "      <th>params</th>\n",
       "      <td>{'learning_rate': 1, 'n_estimators': 50}</td>\n",
       "      <td>{'learning_rate': 1, 'n_estimators': 175}</td>\n",
       "      <td>{'learning_rate': 1, 'n_estimators': 300}</td>\n",
       "      <td>{'learning_rate': 5, 'n_estimators': 50}</td>\n",
       "      <td>{'learning_rate': 5, 'n_estimators': 175}</td>\n",
       "      <td>{'learning_rate': 5, 'n_estimators': 300}</td>\n",
       "      <td>{'learning_rate': 10, 'n_estimators': 50}</td>\n",
       "      <td>{'learning_rate': 10, 'n_estimators': 175}</td>\n",
       "      <td>{'learning_rate': 10, 'n_estimators': 300}</td>\n",
       "    </tr>\n",
       "    <tr>\n",
       "      <th>split0_test_score</th>\n",
       "      <td>0.634575</td>\n",
       "      <td>0.635166</td>\n",
       "      <td>0.634999</td>\n",
       "      <td>0.383048</td>\n",
       "      <td>0.616952</td>\n",
       "      <td>0.383048</td>\n",
       "      <td>0.383048</td>\n",
       "      <td>0.616952</td>\n",
       "      <td>0.383048</td>\n",
       "    </tr>\n",
       "    <tr>\n",
       "      <th>split1_test_score</th>\n",
       "      <td>0.635628</td>\n",
       "      <td>0.635878</td>\n",
       "      <td>0.635931</td>\n",
       "      <td>0.382821</td>\n",
       "      <td>0.617179</td>\n",
       "      <td>0.382821</td>\n",
       "      <td>0.382821</td>\n",
       "      <td>0.617179</td>\n",
       "      <td>0.382821</td>\n",
       "    </tr>\n",
       "    <tr>\n",
       "      <th>split2_test_score</th>\n",
       "      <td>0.635992</td>\n",
       "      <td>0.636007</td>\n",
       "      <td>0.635969</td>\n",
       "      <td>0.384503</td>\n",
       "      <td>0.615497</td>\n",
       "      <td>0.384503</td>\n",
       "      <td>0.384503</td>\n",
       "      <td>0.615497</td>\n",
       "      <td>0.384503</td>\n",
       "    </tr>\n",
       "    <tr>\n",
       "      <th>mean_test_score</th>\n",
       "      <td>0.635398</td>\n",
       "      <td>0.635684</td>\n",
       "      <td>0.635633</td>\n",
       "      <td>0.383457</td>\n",
       "      <td>0.616543</td>\n",
       "      <td>0.383457</td>\n",
       "      <td>0.383457</td>\n",
       "      <td>0.616543</td>\n",
       "      <td>0.383457</td>\n",
       "    </tr>\n",
       "    <tr>\n",
       "      <th>std_test_score</th>\n",
       "      <td>0.000601</td>\n",
       "      <td>0.00037</td>\n",
       "      <td>0.000449</td>\n",
       "      <td>0.000745</td>\n",
       "      <td>0.000745</td>\n",
       "      <td>0.000745</td>\n",
       "      <td>0.000745</td>\n",
       "      <td>0.000745</td>\n",
       "      <td>0.000745</td>\n",
       "    </tr>\n",
       "    <tr>\n",
       "      <th>rank_test_score</th>\n",
       "      <td>3</td>\n",
       "      <td>1</td>\n",
       "      <td>2</td>\n",
       "      <td>6</td>\n",
       "      <td>4</td>\n",
       "      <td>6</td>\n",
       "      <td>6</td>\n",
       "      <td>4</td>\n",
       "      <td>6</td>\n",
       "    </tr>\n",
       "  </tbody>\n",
       "</table>\n",
       "</div>"
      ],
      "text/plain": [
       "                                                            0  \\\n",
       "mean_fit_time                                       28.136119   \n",
       "std_fit_time                                         0.446186   \n",
       "mean_score_time                                      3.759798   \n",
       "std_score_time                                       0.152179   \n",
       "param_learning_rate                                         1   \n",
       "param_n_estimators                                         50   \n",
       "params               {'learning_rate': 1, 'n_estimators': 50}   \n",
       "split0_test_score                                    0.634575   \n",
       "split1_test_score                                    0.635628   \n",
       "split2_test_score                                    0.635992   \n",
       "mean_test_score                                      0.635398   \n",
       "std_test_score                                       0.000601   \n",
       "rank_test_score                                             3   \n",
       "\n",
       "                                                             1  \\\n",
       "mean_fit_time                                        97.621639   \n",
       "std_fit_time                                          0.979778   \n",
       "mean_score_time                                      12.960221   \n",
       "std_score_time                                        0.365824   \n",
       "param_learning_rate                                          1   \n",
       "param_n_estimators                                         175   \n",
       "params               {'learning_rate': 1, 'n_estimators': 175}   \n",
       "split0_test_score                                     0.635166   \n",
       "split1_test_score                                     0.635878   \n",
       "split2_test_score                                     0.636007   \n",
       "mean_test_score                                       0.635684   \n",
       "std_test_score                                         0.00037   \n",
       "rank_test_score                                              1   \n",
       "\n",
       "                                                             2  \\\n",
       "mean_fit_time                                       165.672184   \n",
       "std_fit_time                                          0.874787   \n",
       "mean_score_time                                      22.399293   \n",
       "std_score_time                                        0.584454   \n",
       "param_learning_rate                                          1   \n",
       "param_n_estimators                                         300   \n",
       "params               {'learning_rate': 1, 'n_estimators': 300}   \n",
       "split0_test_score                                     0.634999   \n",
       "split1_test_score                                     0.635931   \n",
       "split2_test_score                                     0.635969   \n",
       "mean_test_score                                       0.635633   \n",
       "std_test_score                                        0.000449   \n",
       "rank_test_score                                              2   \n",
       "\n",
       "                                                            3  \\\n",
       "mean_fit_time                                       28.010851   \n",
       "std_fit_time                                         0.687277   \n",
       "mean_score_time                                      3.864215   \n",
       "std_score_time                                       0.141003   \n",
       "param_learning_rate                                         5   \n",
       "param_n_estimators                                         50   \n",
       "params               {'learning_rate': 5, 'n_estimators': 50}   \n",
       "split0_test_score                                    0.383048   \n",
       "split1_test_score                                    0.382821   \n",
       "split2_test_score                                    0.384503   \n",
       "mean_test_score                                      0.383457   \n",
       "std_test_score                                       0.000745   \n",
       "rank_test_score                                             6   \n",
       "\n",
       "                                                             4  \\\n",
       "mean_fit_time                                        97.634672   \n",
       "std_fit_time                                          0.732783   \n",
       "mean_score_time                                      13.503656   \n",
       "std_score_time                                        0.291549   \n",
       "param_learning_rate                                          5   \n",
       "param_n_estimators                                         175   \n",
       "params               {'learning_rate': 5, 'n_estimators': 175}   \n",
       "split0_test_score                                     0.616952   \n",
       "split1_test_score                                     0.617179   \n",
       "split2_test_score                                     0.615497   \n",
       "mean_test_score                                       0.616543   \n",
       "std_test_score                                        0.000745   \n",
       "rank_test_score                                              4   \n",
       "\n",
       "                                                             5  \\\n",
       "mean_fit_time                                       165.825065   \n",
       "std_fit_time                                          2.437344   \n",
       "mean_score_time                                        19.7984   \n",
       "std_score_time                                        4.208666   \n",
       "param_learning_rate                                          5   \n",
       "param_n_estimators                                         300   \n",
       "params               {'learning_rate': 5, 'n_estimators': 300}   \n",
       "split0_test_score                                     0.383048   \n",
       "split1_test_score                                     0.382821   \n",
       "split2_test_score                                     0.384503   \n",
       "mean_test_score                                       0.383457   \n",
       "std_test_score                                        0.000745   \n",
       "rank_test_score                                              6   \n",
       "\n",
       "                                                             6  \\\n",
       "mean_fit_time                                        28.817186   \n",
       "std_fit_time                                          0.108125   \n",
       "mean_score_time                                       4.361252   \n",
       "std_score_time                                        0.308641   \n",
       "param_learning_rate                                         10   \n",
       "param_n_estimators                                          50   \n",
       "params               {'learning_rate': 10, 'n_estimators': 50}   \n",
       "split0_test_score                                     0.383048   \n",
       "split1_test_score                                     0.382821   \n",
       "split2_test_score                                     0.384503   \n",
       "mean_test_score                                       0.383457   \n",
       "std_test_score                                        0.000745   \n",
       "rank_test_score                                              6   \n",
       "\n",
       "                                                              7  \\\n",
       "mean_fit_time                                          99.79779   \n",
       "std_fit_time                                           2.643566   \n",
       "mean_score_time                                       12.941791   \n",
       "std_score_time                                         0.452954   \n",
       "param_learning_rate                                          10   \n",
       "param_n_estimators                                          175   \n",
       "params               {'learning_rate': 10, 'n_estimators': 175}   \n",
       "split0_test_score                                      0.616952   \n",
       "split1_test_score                                      0.617179   \n",
       "split2_test_score                                      0.615497   \n",
       "mean_test_score                                        0.616543   \n",
       "std_test_score                                         0.000745   \n",
       "rank_test_score                                               4   \n",
       "\n",
       "                                                              8  \n",
       "mean_fit_time                                        122.067657  \n",
       "std_fit_time                                          20.655743  \n",
       "mean_score_time                                       10.366655  \n",
       "std_score_time                                          1.91331  \n",
       "param_learning_rate                                          10  \n",
       "param_n_estimators                                          300  \n",
       "params               {'learning_rate': 10, 'n_estimators': 300}  \n",
       "split0_test_score                                      0.383048  \n",
       "split1_test_score                                      0.382821  \n",
       "split2_test_score                                      0.384503  \n",
       "mean_test_score                                        0.383457  \n",
       "std_test_score                                         0.000745  \n",
       "rank_test_score                                               6  "
      ]
     },
     "execution_count": 56,
     "metadata": {},
     "output_type": "execute_result"
    }
   ],
   "source": [
    "cvs = pd.DataFrame(grid_search_adaboost.cv_results_)\n",
    "\n",
    "cvs.T"
   ]
  },
  {
   "cell_type": "code",
   "execution_count": 57,
   "id": "ee514fb4",
   "metadata": {},
   "outputs": [
    {
     "data": {
      "text/html": [
       "<div>\n",
       "<style scoped>\n",
       "    .dataframe tbody tr th:only-of-type {\n",
       "        vertical-align: middle;\n",
       "    }\n",
       "\n",
       "    .dataframe tbody tr th {\n",
       "        vertical-align: top;\n",
       "    }\n",
       "\n",
       "    .dataframe thead th {\n",
       "        text-align: right;\n",
       "    }\n",
       "</style>\n",
       "<table border=\"1\" class=\"dataframe\">\n",
       "  <thead>\n",
       "    <tr style=\"text-align: right;\">\n",
       "      <th></th>\n",
       "      <th>count</th>\n",
       "      <th>mean</th>\n",
       "      <th>std</th>\n",
       "      <th>min</th>\n",
       "      <th>25%</th>\n",
       "      <th>50%</th>\n",
       "      <th>75%</th>\n",
       "      <th>max</th>\n",
       "    </tr>\n",
       "  </thead>\n",
       "  <tbody>\n",
       "    <tr>\n",
       "      <th>mean_fit_time</th>\n",
       "      <td>9.0</td>\n",
       "      <td>92.620351</td>\n",
       "      <td>54.849526</td>\n",
       "      <td>28.010851</td>\n",
       "      <td>28.817186</td>\n",
       "      <td>97.634672</td>\n",
       "      <td>122.067657</td>\n",
       "      <td>165.825065</td>\n",
       "    </tr>\n",
       "    <tr>\n",
       "      <th>std_fit_time</th>\n",
       "      <td>9.0</td>\n",
       "      <td>3.285065</td>\n",
       "      <td>6.570856</td>\n",
       "      <td>0.108125</td>\n",
       "      <td>0.687277</td>\n",
       "      <td>0.874787</td>\n",
       "      <td>2.437344</td>\n",
       "      <td>20.655743</td>\n",
       "    </tr>\n",
       "    <tr>\n",
       "      <th>mean_score_time</th>\n",
       "      <td>9.0</td>\n",
       "      <td>11.550587</td>\n",
       "      <td>6.766857</td>\n",
       "      <td>3.759798</td>\n",
       "      <td>4.361252</td>\n",
       "      <td>12.941791</td>\n",
       "      <td>13.503656</td>\n",
       "      <td>22.399293</td>\n",
       "    </tr>\n",
       "    <tr>\n",
       "      <th>std_score_time</th>\n",
       "      <td>9.0</td>\n",
       "      <td>0.935398</td>\n",
       "      <td>1.341771</td>\n",
       "      <td>0.141003</td>\n",
       "      <td>0.291549</td>\n",
       "      <td>0.365824</td>\n",
       "      <td>0.584454</td>\n",
       "      <td>4.208666</td>\n",
       "    </tr>\n",
       "    <tr>\n",
       "      <th>split0_test_score</th>\n",
       "      <td>9.0</td>\n",
       "      <td>0.518982</td>\n",
       "      <td>0.129146</td>\n",
       "      <td>0.383048</td>\n",
       "      <td>0.383048</td>\n",
       "      <td>0.616952</td>\n",
       "      <td>0.634575</td>\n",
       "      <td>0.635166</td>\n",
       "    </tr>\n",
       "    <tr>\n",
       "      <th>split1_test_score</th>\n",
       "      <td>9.0</td>\n",
       "      <td>0.519231</td>\n",
       "      <td>0.129611</td>\n",
       "      <td>0.382821</td>\n",
       "      <td>0.382821</td>\n",
       "      <td>0.617179</td>\n",
       "      <td>0.635628</td>\n",
       "      <td>0.635931</td>\n",
       "    </tr>\n",
       "    <tr>\n",
       "      <th>split2_test_score</th>\n",
       "      <td>9.0</td>\n",
       "      <td>0.519664</td>\n",
       "      <td>0.128470</td>\n",
       "      <td>0.384503</td>\n",
       "      <td>0.384503</td>\n",
       "      <td>0.615497</td>\n",
       "      <td>0.635969</td>\n",
       "      <td>0.636007</td>\n",
       "    </tr>\n",
       "    <tr>\n",
       "      <th>mean_test_score</th>\n",
       "      <td>9.0</td>\n",
       "      <td>0.519292</td>\n",
       "      <td>0.129075</td>\n",
       "      <td>0.383457</td>\n",
       "      <td>0.383457</td>\n",
       "      <td>0.616543</td>\n",
       "      <td>0.635398</td>\n",
       "      <td>0.635684</td>\n",
       "    </tr>\n",
       "    <tr>\n",
       "      <th>std_test_score</th>\n",
       "      <td>9.0</td>\n",
       "      <td>0.000654</td>\n",
       "      <td>0.000148</td>\n",
       "      <td>0.000370</td>\n",
       "      <td>0.000601</td>\n",
       "      <td>0.000745</td>\n",
       "      <td>0.000745</td>\n",
       "      <td>0.000745</td>\n",
       "    </tr>\n",
       "    <tr>\n",
       "      <th>rank_test_score</th>\n",
       "      <td>9.0</td>\n",
       "      <td>4.222222</td>\n",
       "      <td>1.922094</td>\n",
       "      <td>1.000000</td>\n",
       "      <td>3.000000</td>\n",
       "      <td>4.000000</td>\n",
       "      <td>6.000000</td>\n",
       "      <td>6.000000</td>\n",
       "    </tr>\n",
       "  </tbody>\n",
       "</table>\n",
       "</div>"
      ],
      "text/plain": [
       "                   count       mean        std        min        25%  \\\n",
       "mean_fit_time        9.0  92.620351  54.849526  28.010851  28.817186   \n",
       "std_fit_time         9.0   3.285065   6.570856   0.108125   0.687277   \n",
       "mean_score_time      9.0  11.550587   6.766857   3.759798   4.361252   \n",
       "std_score_time       9.0   0.935398   1.341771   0.141003   0.291549   \n",
       "split0_test_score    9.0   0.518982   0.129146   0.383048   0.383048   \n",
       "split1_test_score    9.0   0.519231   0.129611   0.382821   0.382821   \n",
       "split2_test_score    9.0   0.519664   0.128470   0.384503   0.384503   \n",
       "mean_test_score      9.0   0.519292   0.129075   0.383457   0.383457   \n",
       "std_test_score       9.0   0.000654   0.000148   0.000370   0.000601   \n",
       "rank_test_score      9.0   4.222222   1.922094   1.000000   3.000000   \n",
       "\n",
       "                         50%         75%         max  \n",
       "mean_fit_time      97.634672  122.067657  165.825065  \n",
       "std_fit_time        0.874787    2.437344   20.655743  \n",
       "mean_score_time    12.941791   13.503656   22.399293  \n",
       "std_score_time      0.365824    0.584454    4.208666  \n",
       "split0_test_score   0.616952    0.634575    0.635166  \n",
       "split1_test_score   0.617179    0.635628    0.635931  \n",
       "split2_test_score   0.615497    0.635969    0.636007  \n",
       "mean_test_score     0.616543    0.635398    0.635684  \n",
       "std_test_score      0.000745    0.000745    0.000745  \n",
       "rank_test_score     4.000000    6.000000    6.000000  "
      ]
     },
     "execution_count": 57,
     "metadata": {},
     "output_type": "execute_result"
    }
   ],
   "source": [
    "cvs.describe().T"
   ]
  },
  {
   "cell_type": "code",
   "execution_count": 58,
   "id": "68dac071",
   "metadata": {},
   "outputs": [],
   "source": [
    "model_gs_adaboost = AdaBoostClassifier(**grid_search_adaboost.best_params_)\n",
    "\n",
    "model_gs_adaboost.fit(X_train, y_train)\n",
    "y_pred_gs_adaboost = model_gs_adaboost.predict(X_test)"
   ]
  },
  {
   "cell_type": "code",
   "execution_count": 59,
   "id": "56f3e109",
   "metadata": {},
   "outputs": [
    {
     "name": "stdout",
     "output_type": "stream",
     "text": [
      "              precision    recall  f1-score   support\n",
      "\n",
      "           0       0.63      0.85      0.72     55352\n",
      "           1       0.66      0.37      0.47     43638\n",
      "\n",
      "    accuracy                           0.64     98990\n",
      "   macro avg       0.65      0.61      0.60     98990\n",
      "weighted avg       0.64      0.64      0.61     98990\n",
      "\n"
     ]
    },
    {
     "data": {
      "image/png": "[encoded data removed]",
      "text/plain": [
       "<Figure size 432x288 with 1 Axes>"
      ]
     },
     "metadata": {
      "needs_background": "light"
     },
     "output_type": "display_data"
    }
   ],
   "source": [
    "print(classification_report(y_test, y_pred_gs_adaboost))\n",
    "\n",
    "cm = confusion_matrix(y_test, y_pred_gs_adaboost)\n",
    "plot_confusion_matrix(conf_mat=cm, fontcolor_threshold=0.8)\n",
    "plt.show()"
   ]
  },
  {
   "cell_type": "markdown",
   "id": "50511afb",
   "metadata": {},
   "source": [
    "#### LogisticRegression"
   ]
  },
  {
   "cell_type": "code",
   "execution_count": 60,
   "id": "6c57b764",
   "metadata": {},
   "outputs": [],
   "source": [
    "grid_search_logreg = GridSearchCV(\n",
    "    estimator=model_logreg,\n",
    "    param_grid=params_grid_logreg,\n",
    "    scoring='accuracy',\n",
    "    cv=3,\n",
    "    verbose=2,\n",
    "    n_jobs=-1\n",
    ")"
   ]
  },
  {
   "cell_type": "code",
   "execution_count": 61,
   "id": "483ba7b0",
   "metadata": {},
   "outputs": [
    {
     "name": "stdout",
     "output_type": "stream",
     "text": [
      "Fitting 3 folds for each of 45 candidates, totalling 135 fits\n",
      "0.5540529270500631\n",
      "Wall time: 6min 52s\n"
     ]
    },
    {
     "name": "stderr",
     "output_type": "stream",
     "text": [
      "C:\\Users\\victo\\anaconda3\\lib\\site-packages\\sklearn\\linear_model\\_logistic.py:763: ConvergenceWarning:\n",
      "\n",
      "lbfgs failed to converge (status=1):\n",
      "STOP: TOTAL NO. of ITERATIONS REACHED LIMIT.\n",
      "\n",
      "Increase the number of iterations (max_iter) or scale the data as shown in:\n",
      "    https://scikit-learn.org/stable/modules/preprocessing.html\n",
      "Please also refer to the documentation for alternative solver options:\n",
      "    https://scikit-learn.org/stable/modules/linear_model.html#logistic-regression\n",
      "\n"
     ]
    }
   ],
   "source": [
    "%%time \n",
    "grid_search_logreg.fit(X_train, y_train)\n",
    "\n",
    "print(grid_search_logreg.cv_results_['mean_test_score'].mean())"
   ]
  },
  {
   "cell_type": "code",
   "execution_count": 62,
   "id": "8435de07",
   "metadata": {},
   "outputs": [
    {
     "data": {
      "text/plain": [
       "{'C': 1, 'class_weight': 'auto', 'solver': 'lbfgs'}"
      ]
     },
     "execution_count": 62,
     "metadata": {},
     "output_type": "execute_result"
    }
   ],
   "source": [
    "grid_search_logreg.best_params_"
   ]
  },
  {
   "cell_type": "code",
   "execution_count": 63,
   "id": "dfa426d9",
   "metadata": {},
   "outputs": [
    {
     "data": {
      "text/html": [
       "<div>\n",
       "<style scoped>\n",
       "    .dataframe tbody tr th:only-of-type {\n",
       "        vertical-align: middle;\n",
       "    }\n",
       "\n",
       "    .dataframe tbody tr th {\n",
       "        vertical-align: top;\n",
       "    }\n",
       "\n",
       "    .dataframe thead th {\n",
       "        text-align: right;\n",
       "    }\n",
       "</style>\n",
       "<table border=\"1\" class=\"dataframe\">\n",
       "  <thead>\n",
       "    <tr style=\"text-align: right;\">\n",
       "      <th></th>\n",
       "      <th>0</th>\n",
       "      <th>1</th>\n",
       "      <th>2</th>\n",
       "      <th>3</th>\n",
       "      <th>4</th>\n",
       "      <th>5</th>\n",
       "      <th>6</th>\n",
       "      <th>7</th>\n",
       "      <th>8</th>\n",
       "      <th>9</th>\n",
       "      <th>...</th>\n",
       "      <th>35</th>\n",
       "      <th>36</th>\n",
       "      <th>37</th>\n",
       "      <th>38</th>\n",
       "      <th>39</th>\n",
       "      <th>40</th>\n",
       "      <th>41</th>\n",
       "      <th>42</th>\n",
       "      <th>43</th>\n",
       "      <th>44</th>\n",
       "    </tr>\n",
       "  </thead>\n",
       "  <tbody>\n",
       "    <tr>\n",
       "      <th>mean_fit_time</th>\n",
       "      <td>8.622758</td>\n",
       "      <td>33.825203</td>\n",
       "      <td>35.393749</td>\n",
       "      <td>6.931648</td>\n",
       "      <td>29.913413</td>\n",
       "      <td>32.195661</td>\n",
       "      <td>6.780152</td>\n",
       "      <td>28.189601</td>\n",
       "      <td>33.02323</td>\n",
       "      <td>6.429891</td>\n",
       "      <td>...</td>\n",
       "      <td>32.631592</td>\n",
       "      <td>5.803149</td>\n",
       "      <td>28.971739</td>\n",
       "      <td>37.075277</td>\n",
       "      <td>7.433244</td>\n",
       "      <td>31.438038</td>\n",
       "      <td>34.366396</td>\n",
       "      <td>6.336783</td>\n",
       "      <td>26.79858</td>\n",
       "      <td>30.54585</td>\n",
       "    </tr>\n",
       "    <tr>\n",
       "      <th>std_fit_time</th>\n",
       "      <td>0.309267</td>\n",
       "      <td>0.47094</td>\n",
       "      <td>1.312841</td>\n",
       "      <td>0.425711</td>\n",
       "      <td>0.396067</td>\n",
       "      <td>0.325156</td>\n",
       "      <td>0.412273</td>\n",
       "      <td>0.424814</td>\n",
       "      <td>0.752462</td>\n",
       "      <td>0.275431</td>\n",
       "      <td>...</td>\n",
       "      <td>0.240996</td>\n",
       "      <td>1.489899</td>\n",
       "      <td>1.010278</td>\n",
       "      <td>0.456918</td>\n",
       "      <td>0.668836</td>\n",
       "      <td>0.757455</td>\n",
       "      <td>1.080451</td>\n",
       "      <td>0.199476</td>\n",
       "      <td>0.519442</td>\n",
       "      <td>0.919916</td>\n",
       "    </tr>\n",
       "    <tr>\n",
       "      <th>mean_score_time</th>\n",
       "      <td>0.060485</td>\n",
       "      <td>0.063451</td>\n",
       "      <td>0.058296</td>\n",
       "      <td>0.056011</td>\n",
       "      <td>0.04989</td>\n",
       "      <td>0.072477</td>\n",
       "      <td>0.053981</td>\n",
       "      <td>0.061708</td>\n",
       "      <td>0.053931</td>\n",
       "      <td>0.057148</td>\n",
       "      <td>...</td>\n",
       "      <td>0.052814</td>\n",
       "      <td>0.056089</td>\n",
       "      <td>0.07316</td>\n",
       "      <td>0.061488</td>\n",
       "      <td>0.076665</td>\n",
       "      <td>0.057288</td>\n",
       "      <td>0.051972</td>\n",
       "      <td>0.061025</td>\n",
       "      <td>0.048839</td>\n",
       "      <td>0.033757</td>\n",
       "    </tr>\n",
       "    <tr>\n",
       "      <th>std_score_time</th>\n",
       "      <td>0.006568</td>\n",
       "      <td>0.006592</td>\n",
       "      <td>0.007779</td>\n",
       "      <td>0.005158</td>\n",
       "      <td>0.004453</td>\n",
       "      <td>0.016318</td>\n",
       "      <td>0.005027</td>\n",
       "      <td>0.006105</td>\n",
       "      <td>0.006962</td>\n",
       "      <td>0.004133</td>\n",
       "      <td>...</td>\n",
       "      <td>0.003483</td>\n",
       "      <td>0.006873</td>\n",
       "      <td>0.016099</td>\n",
       "      <td>0.014486</td>\n",
       "      <td>0.021092</td>\n",
       "      <td>0.012032</td>\n",
       "      <td>0.009357</td>\n",
       "      <td>0.009809</td>\n",
       "      <td>0.000967</td>\n",
       "      <td>0.00273</td>\n",
       "    </tr>\n",
       "    <tr>\n",
       "      <th>param_C</th>\n",
       "      <td>1</td>\n",
       "      <td>1</td>\n",
       "      <td>1</td>\n",
       "      <td>1</td>\n",
       "      <td>1</td>\n",
       "      <td>1</td>\n",
       "      <td>1</td>\n",
       "      <td>1</td>\n",
       "      <td>1</td>\n",
       "      <td>1</td>\n",
       "      <td>...</td>\n",
       "      <td>5</td>\n",
       "      <td>5</td>\n",
       "      <td>5</td>\n",
       "      <td>5</td>\n",
       "      <td>5</td>\n",
       "      <td>5</td>\n",
       "      <td>5</td>\n",
       "      <td>5</td>\n",
       "      <td>5</td>\n",
       "      <td>5</td>\n",
       "    </tr>\n",
       "    <tr>\n",
       "      <th>param_class_weight</th>\n",
       "      <td>{0: 0.2, 1: 0.8}</td>\n",
       "      <td>{0: 0.2, 1: 0.8}</td>\n",
       "      <td>{0: 0.2, 1: 0.8}</td>\n",
       "      <td>{0: 0.1, 1: 0.9}</td>\n",
       "      <td>{0: 0.1, 1: 0.9}</td>\n",
       "      <td>{0: 0.1, 1: 0.9}</td>\n",
       "      <td>balanced</td>\n",
       "      <td>balanced</td>\n",
       "      <td>balanced</td>\n",
       "      <td>auto</td>\n",
       "      <td>...</td>\n",
       "      <td>{0: 0.1, 1: 0.9}</td>\n",
       "      <td>balanced</td>\n",
       "      <td>balanced</td>\n",
       "      <td>balanced</td>\n",
       "      <td>auto</td>\n",
       "      <td>auto</td>\n",
       "      <td>auto</td>\n",
       "      <td>None</td>\n",
       "      <td>None</td>\n",
       "      <td>None</td>\n",
       "    </tr>\n",
       "    <tr>\n",
       "      <th>param_solver</th>\n",
       "      <td>lbfgs</td>\n",
       "      <td>sag</td>\n",
       "      <td>saga</td>\n",
       "      <td>lbfgs</td>\n",
       "      <td>sag</td>\n",
       "      <td>saga</td>\n",
       "      <td>lbfgs</td>\n",
       "      <td>sag</td>\n",
       "      <td>saga</td>\n",
       "      <td>lbfgs</td>\n",
       "      <td>...</td>\n",
       "      <td>saga</td>\n",
       "      <td>lbfgs</td>\n",
       "      <td>sag</td>\n",
       "      <td>saga</td>\n",
       "      <td>lbfgs</td>\n",
       "      <td>sag</td>\n",
       "      <td>saga</td>\n",
       "      <td>lbfgs</td>\n",
       "      <td>sag</td>\n",
       "      <td>saga</td>\n",
       "    </tr>\n",
       "    <tr>\n",
       "      <th>params</th>\n",
       "      <td>{'C': 1, 'class_weight': {0: 0.2, 1: 0.8}, 'so...</td>\n",
       "      <td>{'C': 1, 'class_weight': {0: 0.2, 1: 0.8}, 'so...</td>\n",
       "      <td>{'C': 1, 'class_weight': {0: 0.2, 1: 0.8}, 'so...</td>\n",
       "      <td>{'C': 1, 'class_weight': {0: 0.1, 1: 0.9}, 'so...</td>\n",
       "      <td>{'C': 1, 'class_weight': {0: 0.1, 1: 0.9}, 'so...</td>\n",
       "      <td>{'C': 1, 'class_weight': {0: 0.1, 1: 0.9}, 'so...</td>\n",
       "      <td>{'C': 1, 'class_weight': 'balanced', 'solver':...</td>\n",
       "      <td>{'C': 1, 'class_weight': 'balanced', 'solver':...</td>\n",
       "      <td>{'C': 1, 'class_weight': 'balanced', 'solver':...</td>\n",
       "      <td>{'C': 1, 'class_weight': 'auto', 'solver': 'lb...</td>\n",
       "      <td>...</td>\n",
       "      <td>{'C': 5, 'class_weight': {0: 0.1, 1: 0.9}, 'so...</td>\n",
       "      <td>{'C': 5, 'class_weight': 'balanced', 'solver':...</td>\n",
       "      <td>{'C': 5, 'class_weight': 'balanced', 'solver':...</td>\n",
       "      <td>{'C': 5, 'class_weight': 'balanced', 'solver':...</td>\n",
       "      <td>{'C': 5, 'class_weight': 'auto', 'solver': 'lb...</td>\n",
       "      <td>{'C': 5, 'class_weight': 'auto', 'solver': 'sag'}</td>\n",
       "      <td>{'C': 5, 'class_weight': 'auto', 'solver': 'sa...</td>\n",
       "      <td>{'C': 5, 'class_weight': None, 'solver': 'lbfgs'}</td>\n",
       "      <td>{'C': 5, 'class_weight': None, 'solver': 'sag'}</td>\n",
       "      <td>{'C': 5, 'class_weight': None, 'solver': 'saga'}</td>\n",
       "    </tr>\n",
       "    <tr>\n",
       "      <th>split0_test_score</th>\n",
       "      <td>0.441198</td>\n",
       "      <td>0.441244</td>\n",
       "      <td>0.441221</td>\n",
       "      <td>0.440774</td>\n",
       "      <td>0.440774</td>\n",
       "      <td>0.440782</td>\n",
       "      <td>0.621763</td>\n",
       "      <td>0.621846</td>\n",
       "      <td>0.621846</td>\n",
       "      <td>0.632431</td>\n",
       "      <td>...</td>\n",
       "      <td>0.440782</td>\n",
       "      <td>0.621483</td>\n",
       "      <td>0.621846</td>\n",
       "      <td>0.621846</td>\n",
       "      <td>0.632309</td>\n",
       "      <td>0.632309</td>\n",
       "      <td>0.632325</td>\n",
       "      <td>0.632309</td>\n",
       "      <td>0.632309</td>\n",
       "      <td>0.632325</td>\n",
       "    </tr>\n",
       "    <tr>\n",
       "      <th>split1_test_score</th>\n",
       "      <td>0.441456</td>\n",
       "      <td>0.441403</td>\n",
       "      <td>0.441373</td>\n",
       "      <td>0.44088</td>\n",
       "      <td>0.440873</td>\n",
       "      <td>0.440857</td>\n",
       "      <td>0.623528</td>\n",
       "      <td>0.623468</td>\n",
       "      <td>0.62346</td>\n",
       "      <td>0.63265</td>\n",
       "      <td>...</td>\n",
       "      <td>0.440857</td>\n",
       "      <td>0.623271</td>\n",
       "      <td>0.623475</td>\n",
       "      <td>0.62346</td>\n",
       "      <td>0.632196</td>\n",
       "      <td>0.632393</td>\n",
       "      <td>0.6324</td>\n",
       "      <td>0.632196</td>\n",
       "      <td>0.632393</td>\n",
       "      <td>0.6324</td>\n",
       "    </tr>\n",
       "    <tr>\n",
       "      <th>split2_test_score</th>\n",
       "      <td>0.4411</td>\n",
       "      <td>0.441107</td>\n",
       "      <td>0.441123</td>\n",
       "      <td>0.44085</td>\n",
       "      <td>0.44085</td>\n",
       "      <td>0.44085</td>\n",
       "      <td>0.62393</td>\n",
       "      <td>0.623733</td>\n",
       "      <td>0.623733</td>\n",
       "      <td>0.633196</td>\n",
       "      <td>...</td>\n",
       "      <td>0.440842</td>\n",
       "      <td>0.623945</td>\n",
       "      <td>0.623733</td>\n",
       "      <td>0.623748</td>\n",
       "      <td>0.632984</td>\n",
       "      <td>0.63306</td>\n",
       "      <td>0.633082</td>\n",
       "      <td>0.632984</td>\n",
       "      <td>0.63306</td>\n",
       "      <td>0.633082</td>\n",
       "    </tr>\n",
       "    <tr>\n",
       "      <th>mean_test_score</th>\n",
       "      <td>0.441251</td>\n",
       "      <td>0.441251</td>\n",
       "      <td>0.441239</td>\n",
       "      <td>0.440835</td>\n",
       "      <td>0.440832</td>\n",
       "      <td>0.44083</td>\n",
       "      <td>0.623074</td>\n",
       "      <td>0.623016</td>\n",
       "      <td>0.623013</td>\n",
       "      <td>0.632759</td>\n",
       "      <td>...</td>\n",
       "      <td>0.440827</td>\n",
       "      <td>0.622899</td>\n",
       "      <td>0.623018</td>\n",
       "      <td>0.623018</td>\n",
       "      <td>0.632496</td>\n",
       "      <td>0.632587</td>\n",
       "      <td>0.632602</td>\n",
       "      <td>0.632496</td>\n",
       "      <td>0.632587</td>\n",
       "      <td>0.632602</td>\n",
       "    </tr>\n",
       "    <tr>\n",
       "      <th>std_test_score</th>\n",
       "      <td>0.00015</td>\n",
       "      <td>0.000121</td>\n",
       "      <td>0.000103</td>\n",
       "      <td>0.000045</td>\n",
       "      <td>0.000042</td>\n",
       "      <td>0.000034</td>\n",
       "      <td>0.000941</td>\n",
       "      <td>0.000834</td>\n",
       "      <td>0.000833</td>\n",
       "      <td>0.000322</td>\n",
       "      <td>...</td>\n",
       "      <td>0.000033</td>\n",
       "      <td>0.001039</td>\n",
       "      <td>0.000835</td>\n",
       "      <td>0.000837</td>\n",
       "      <td>0.000348</td>\n",
       "      <td>0.000336</td>\n",
       "      <td>0.000341</td>\n",
       "      <td>0.000348</td>\n",
       "      <td>0.000336</td>\n",
       "      <td>0.000341</td>\n",
       "    </tr>\n",
       "    <tr>\n",
       "      <th>rank_test_score</th>\n",
       "      <td>31</td>\n",
       "      <td>30</td>\n",
       "      <td>33</td>\n",
       "      <td>37</td>\n",
       "      <td>38</td>\n",
       "      <td>40</td>\n",
       "      <td>19</td>\n",
       "      <td>24</td>\n",
       "      <td>25</td>\n",
       "      <td>1</td>\n",
       "      <td>...</td>\n",
       "      <td>44</td>\n",
       "      <td>26</td>\n",
       "      <td>21</td>\n",
       "      <td>23</td>\n",
       "      <td>17</td>\n",
       "      <td>13</td>\n",
       "      <td>3</td>\n",
       "      <td>17</td>\n",
       "      <td>13</td>\n",
       "      <td>3</td>\n",
       "    </tr>\n",
       "  </tbody>\n",
       "</table>\n",
       "<p>14 rows × 45 columns</p>\n",
       "</div>"
      ],
      "text/plain": [
       "                                                                   0   \\\n",
       "mean_fit_time                                                8.622758   \n",
       "std_fit_time                                                 0.309267   \n",
       "mean_score_time                                              0.060485   \n",
       "std_score_time                                               0.006568   \n",
       "param_C                                                             1   \n",
       "param_class_weight                                   {0: 0.2, 1: 0.8}   \n",
       "param_solver                                                    lbfgs   \n",
       "params              {'C': 1, 'class_weight': {0: 0.2, 1: 0.8}, 'so...   \n",
       "split0_test_score                                            0.441198   \n",
       "split1_test_score                                            0.441456   \n",
       "split2_test_score                                              0.4411   \n",
       "mean_test_score                                              0.441251   \n",
       "std_test_score                                                0.00015   \n",
       "rank_test_score                                                    31   \n",
       "\n",
       "                                                                   1   \\\n",
       "mean_fit_time                                               33.825203   \n",
       "std_fit_time                                                  0.47094   \n",
       "mean_score_time                                              0.063451   \n",
       "std_score_time                                               0.006592   \n",
       "param_C                                                             1   \n",
       "param_class_weight                                   {0: 0.2, 1: 0.8}   \n",
       "param_solver                                                      sag   \n",
       "params              {'C': 1, 'class_weight': {0: 0.2, 1: 0.8}, 'so...   \n",
       "split0_test_score                                            0.441244   \n",
       "split1_test_score                                            0.441403   \n",
       "split2_test_score                                            0.441107   \n",
       "mean_test_score                                              0.441251   \n",
       "std_test_score                                               0.000121   \n",
       "rank_test_score                                                    30   \n",
       "\n",
       "                                                                   2   \\\n",
       "mean_fit_time                                               35.393749   \n",
       "std_fit_time                                                 1.312841   \n",
       "mean_score_time                                              0.058296   \n",
       "std_score_time                                               0.007779   \n",
       "param_C                                                             1   \n",
       "param_class_weight                                   {0: 0.2, 1: 0.8}   \n",
       "param_solver                                                     saga   \n",
       "params              {'C': 1, 'class_weight': {0: 0.2, 1: 0.8}, 'so...   \n",
       "split0_test_score                                            0.441221   \n",
       "split1_test_score                                            0.441373   \n",
       "split2_test_score                                            0.441123   \n",
       "mean_test_score                                              0.441239   \n",
       "std_test_score                                               0.000103   \n",
       "rank_test_score                                                    33   \n",
       "\n",
       "                                                                   3   \\\n",
       "mean_fit_time                                                6.931648   \n",
       "std_fit_time                                                 0.425711   \n",
       "mean_score_time                                              0.056011   \n",
       "std_score_time                                               0.005158   \n",
       "param_C                                                             1   \n",
       "param_class_weight                                   {0: 0.1, 1: 0.9}   \n",
       "param_solver                                                    lbfgs   \n",
       "params              {'C': 1, 'class_weight': {0: 0.1, 1: 0.9}, 'so...   \n",
       "split0_test_score                                            0.440774   \n",
       "split1_test_score                                             0.44088   \n",
       "split2_test_score                                             0.44085   \n",
       "mean_test_score                                              0.440835   \n",
       "std_test_score                                               0.000045   \n",
       "rank_test_score                                                    37   \n",
       "\n",
       "                                                                   4   \\\n",
       "mean_fit_time                                               29.913413   \n",
       "std_fit_time                                                 0.396067   \n",
       "mean_score_time                                               0.04989   \n",
       "std_score_time                                               0.004453   \n",
       "param_C                                                             1   \n",
       "param_class_weight                                   {0: 0.1, 1: 0.9}   \n",
       "param_solver                                                      sag   \n",
       "params              {'C': 1, 'class_weight': {0: 0.1, 1: 0.9}, 'so...   \n",
       "split0_test_score                                            0.440774   \n",
       "split1_test_score                                            0.440873   \n",
       "split2_test_score                                             0.44085   \n",
       "mean_test_score                                              0.440832   \n",
       "std_test_score                                               0.000042   \n",
       "rank_test_score                                                    38   \n",
       "\n",
       "                                                                   5   \\\n",
       "mean_fit_time                                               32.195661   \n",
       "std_fit_time                                                 0.325156   \n",
       "mean_score_time                                              0.072477   \n",
       "std_score_time                                               0.016318   \n",
       "param_C                                                             1   \n",
       "param_class_weight                                   {0: 0.1, 1: 0.9}   \n",
       "param_solver                                                     saga   \n",
       "params              {'C': 1, 'class_weight': {0: 0.1, 1: 0.9}, 'so...   \n",
       "split0_test_score                                            0.440782   \n",
       "split1_test_score                                            0.440857   \n",
       "split2_test_score                                             0.44085   \n",
       "mean_test_score                                               0.44083   \n",
       "std_test_score                                               0.000034   \n",
       "rank_test_score                                                    40   \n",
       "\n",
       "                                                                   6   \\\n",
       "mean_fit_time                                                6.780152   \n",
       "std_fit_time                                                 0.412273   \n",
       "mean_score_time                                              0.053981   \n",
       "std_score_time                                               0.005027   \n",
       "param_C                                                             1   \n",
       "param_class_weight                                           balanced   \n",
       "param_solver                                                    lbfgs   \n",
       "params              {'C': 1, 'class_weight': 'balanced', 'solver':...   \n",
       "split0_test_score                                            0.621763   \n",
       "split1_test_score                                            0.623528   \n",
       "split2_test_score                                             0.62393   \n",
       "mean_test_score                                              0.623074   \n",
       "std_test_score                                               0.000941   \n",
       "rank_test_score                                                    19   \n",
       "\n",
       "                                                                   7   \\\n",
       "mean_fit_time                                               28.189601   \n",
       "std_fit_time                                                 0.424814   \n",
       "mean_score_time                                              0.061708   \n",
       "std_score_time                                               0.006105   \n",
       "param_C                                                             1   \n",
       "param_class_weight                                           balanced   \n",
       "param_solver                                                      sag   \n",
       "params              {'C': 1, 'class_weight': 'balanced', 'solver':...   \n",
       "split0_test_score                                            0.621846   \n",
       "split1_test_score                                            0.623468   \n",
       "split2_test_score                                            0.623733   \n",
       "mean_test_score                                              0.623016   \n",
       "std_test_score                                               0.000834   \n",
       "rank_test_score                                                    24   \n",
       "\n",
       "                                                                   8   \\\n",
       "mean_fit_time                                                33.02323   \n",
       "std_fit_time                                                 0.752462   \n",
       "mean_score_time                                              0.053931   \n",
       "std_score_time                                               0.006962   \n",
       "param_C                                                             1   \n",
       "param_class_weight                                           balanced   \n",
       "param_solver                                                     saga   \n",
       "params              {'C': 1, 'class_weight': 'balanced', 'solver':...   \n",
       "split0_test_score                                            0.621846   \n",
       "split1_test_score                                             0.62346   \n",
       "split2_test_score                                            0.623733   \n",
       "mean_test_score                                              0.623013   \n",
       "std_test_score                                               0.000833   \n",
       "rank_test_score                                                    25   \n",
       "\n",
       "                                                                   9   ...  \\\n",
       "mean_fit_time                                                6.429891  ...   \n",
       "std_fit_time                                                 0.275431  ...   \n",
       "mean_score_time                                              0.057148  ...   \n",
       "std_score_time                                               0.004133  ...   \n",
       "param_C                                                             1  ...   \n",
       "param_class_weight                                               auto  ...   \n",
       "param_solver                                                    lbfgs  ...   \n",
       "params              {'C': 1, 'class_weight': 'auto', 'solver': 'lb...  ...   \n",
       "split0_test_score                                            0.632431  ...   \n",
       "split1_test_score                                             0.63265  ...   \n",
       "split2_test_score                                            0.633196  ...   \n",
       "mean_test_score                                              0.632759  ...   \n",
       "std_test_score                                               0.000322  ...   \n",
       "rank_test_score                                                     1  ...   \n",
       "\n",
       "                                                                   35  \\\n",
       "mean_fit_time                                               32.631592   \n",
       "std_fit_time                                                 0.240996   \n",
       "mean_score_time                                              0.052814   \n",
       "std_score_time                                               0.003483   \n",
       "param_C                                                             5   \n",
       "param_class_weight                                   {0: 0.1, 1: 0.9}   \n",
       "param_solver                                                     saga   \n",
       "params              {'C': 5, 'class_weight': {0: 0.1, 1: 0.9}, 'so...   \n",
       "split0_test_score                                            0.440782   \n",
       "split1_test_score                                            0.440857   \n",
       "split2_test_score                                            0.440842   \n",
       "mean_test_score                                              0.440827   \n",
       "std_test_score                                               0.000033   \n",
       "rank_test_score                                                    44   \n",
       "\n",
       "                                                                   36  \\\n",
       "mean_fit_time                                                5.803149   \n",
       "std_fit_time                                                 1.489899   \n",
       "mean_score_time                                              0.056089   \n",
       "std_score_time                                               0.006873   \n",
       "param_C                                                             5   \n",
       "param_class_weight                                           balanced   \n",
       "param_solver                                                    lbfgs   \n",
       "params              {'C': 5, 'class_weight': 'balanced', 'solver':...   \n",
       "split0_test_score                                            0.621483   \n",
       "split1_test_score                                            0.623271   \n",
       "split2_test_score                                            0.623945   \n",
       "mean_test_score                                              0.622899   \n",
       "std_test_score                                               0.001039   \n",
       "rank_test_score                                                    26   \n",
       "\n",
       "                                                                   37  \\\n",
       "mean_fit_time                                               28.971739   \n",
       "std_fit_time                                                 1.010278   \n",
       "mean_score_time                                               0.07316   \n",
       "std_score_time                                               0.016099   \n",
       "param_C                                                             5   \n",
       "param_class_weight                                           balanced   \n",
       "param_solver                                                      sag   \n",
       "params              {'C': 5, 'class_weight': 'balanced', 'solver':...   \n",
       "split0_test_score                                            0.621846   \n",
       "split1_test_score                                            0.623475   \n",
       "split2_test_score                                            0.623733   \n",
       "mean_test_score                                              0.623018   \n",
       "std_test_score                                               0.000835   \n",
       "rank_test_score                                                    21   \n",
       "\n",
       "                                                                   38  \\\n",
       "mean_fit_time                                               37.075277   \n",
       "std_fit_time                                                 0.456918   \n",
       "mean_score_time                                              0.061488   \n",
       "std_score_time                                               0.014486   \n",
       "param_C                                                             5   \n",
       "param_class_weight                                           balanced   \n",
       "param_solver                                                     saga   \n",
       "params              {'C': 5, 'class_weight': 'balanced', 'solver':...   \n",
       "split0_test_score                                            0.621846   \n",
       "split1_test_score                                             0.62346   \n",
       "split2_test_score                                            0.623748   \n",
       "mean_test_score                                              0.623018   \n",
       "std_test_score                                               0.000837   \n",
       "rank_test_score                                                    23   \n",
       "\n",
       "                                                                   39  \\\n",
       "mean_fit_time                                                7.433244   \n",
       "std_fit_time                                                 0.668836   \n",
       "mean_score_time                                              0.076665   \n",
       "std_score_time                                               0.021092   \n",
       "param_C                                                             5   \n",
       "param_class_weight                                               auto   \n",
       "param_solver                                                    lbfgs   \n",
       "params              {'C': 5, 'class_weight': 'auto', 'solver': 'lb...   \n",
       "split0_test_score                                            0.632309   \n",
       "split1_test_score                                            0.632196   \n",
       "split2_test_score                                            0.632984   \n",
       "mean_test_score                                              0.632496   \n",
       "std_test_score                                               0.000348   \n",
       "rank_test_score                                                    17   \n",
       "\n",
       "                                                                   40  \\\n",
       "mean_fit_time                                               31.438038   \n",
       "std_fit_time                                                 0.757455   \n",
       "mean_score_time                                              0.057288   \n",
       "std_score_time                                               0.012032   \n",
       "param_C                                                             5   \n",
       "param_class_weight                                               auto   \n",
       "param_solver                                                      sag   \n",
       "params              {'C': 5, 'class_weight': 'auto', 'solver': 'sag'}   \n",
       "split0_test_score                                            0.632309   \n",
       "split1_test_score                                            0.632393   \n",
       "split2_test_score                                             0.63306   \n",
       "mean_test_score                                              0.632587   \n",
       "std_test_score                                               0.000336   \n",
       "rank_test_score                                                    13   \n",
       "\n",
       "                                                                   41  \\\n",
       "mean_fit_time                                               34.366396   \n",
       "std_fit_time                                                 1.080451   \n",
       "mean_score_time                                              0.051972   \n",
       "std_score_time                                               0.009357   \n",
       "param_C                                                             5   \n",
       "param_class_weight                                               auto   \n",
       "param_solver                                                     saga   \n",
       "params              {'C': 5, 'class_weight': 'auto', 'solver': 'sa...   \n",
       "split0_test_score                                            0.632325   \n",
       "split1_test_score                                              0.6324   \n",
       "split2_test_score                                            0.633082   \n",
       "mean_test_score                                              0.632602   \n",
       "std_test_score                                               0.000341   \n",
       "rank_test_score                                                     3   \n",
       "\n",
       "                                                                   42  \\\n",
       "mean_fit_time                                                6.336783   \n",
       "std_fit_time                                                 0.199476   \n",
       "mean_score_time                                              0.061025   \n",
       "std_score_time                                               0.009809   \n",
       "param_C                                                             5   \n",
       "param_class_weight                                               None   \n",
       "param_solver                                                    lbfgs   \n",
       "params              {'C': 5, 'class_weight': None, 'solver': 'lbfgs'}   \n",
       "split0_test_score                                            0.632309   \n",
       "split1_test_score                                            0.632196   \n",
       "split2_test_score                                            0.632984   \n",
       "mean_test_score                                              0.632496   \n",
       "std_test_score                                               0.000348   \n",
       "rank_test_score                                                    17   \n",
       "\n",
       "                                                                 43  \\\n",
       "mean_fit_time                                              26.79858   \n",
       "std_fit_time                                               0.519442   \n",
       "mean_score_time                                            0.048839   \n",
       "std_score_time                                             0.000967   \n",
       "param_C                                                           5   \n",
       "param_class_weight                                             None   \n",
       "param_solver                                                    sag   \n",
       "params              {'C': 5, 'class_weight': None, 'solver': 'sag'}   \n",
       "split0_test_score                                          0.632309   \n",
       "split1_test_score                                          0.632393   \n",
       "split2_test_score                                           0.63306   \n",
       "mean_test_score                                            0.632587   \n",
       "std_test_score                                             0.000336   \n",
       "rank_test_score                                                  13   \n",
       "\n",
       "                                                                  44  \n",
       "mean_fit_time                                               30.54585  \n",
       "std_fit_time                                                0.919916  \n",
       "mean_score_time                                             0.033757  \n",
       "std_score_time                                               0.00273  \n",
       "param_C                                                            5  \n",
       "param_class_weight                                              None  \n",
       "param_solver                                                    saga  \n",
       "params              {'C': 5, 'class_weight': None, 'solver': 'saga'}  \n",
       "split0_test_score                                           0.632325  \n",
       "split1_test_score                                             0.6324  \n",
       "split2_test_score                                           0.633082  \n",
       "mean_test_score                                             0.632602  \n",
       "std_test_score                                              0.000341  \n",
       "rank_test_score                                                    3  \n",
       "\n",
       "[14 rows x 45 columns]"
      ]
     },
     "execution_count": 63,
     "metadata": {},
     "output_type": "execute_result"
    }
   ],
   "source": [
    "cvs = pd.DataFrame(grid_search_logreg.cv_results_)\n",
    "\n",
    "cvs.T"
   ]
  },
  {
   "cell_type": "code",
   "execution_count": 64,
   "id": "7fce3532",
   "metadata": {},
   "outputs": [
    {
     "data": {
      "text/html": [
       "<div>\n",
       "<style scoped>\n",
       "    .dataframe tbody tr th:only-of-type {\n",
       "        vertical-align: middle;\n",
       "    }\n",
       "\n",
       "    .dataframe tbody tr th {\n",
       "        vertical-align: top;\n",
       "    }\n",
       "\n",
       "    .dataframe thead th {\n",
       "        text-align: right;\n",
       "    }\n",
       "</style>\n",
       "<table border=\"1\" class=\"dataframe\">\n",
       "  <thead>\n",
       "    <tr style=\"text-align: right;\">\n",
       "      <th></th>\n",
       "      <th>count</th>\n",
       "      <th>mean</th>\n",
       "      <th>std</th>\n",
       "      <th>min</th>\n",
       "      <th>25%</th>\n",
       "      <th>50%</th>\n",
       "      <th>75%</th>\n",
       "      <th>max</th>\n",
       "    </tr>\n",
       "  </thead>\n",
       "  <tbody>\n",
       "    <tr>\n",
       "      <th>mean_fit_time</th>\n",
       "      <td>45.0</td>\n",
       "      <td>23.367719</td>\n",
       "      <td>12.030922</td>\n",
       "      <td>5.803149</td>\n",
       "      <td>6.931648</td>\n",
       "      <td>29.913413</td>\n",
       "      <td>32.631592</td>\n",
       "      <td>37.075277</td>\n",
       "    </tr>\n",
       "    <tr>\n",
       "      <th>std_fit_time</th>\n",
       "      <td>45.0</td>\n",
       "      <td>0.483793</td>\n",
       "      <td>0.330868</td>\n",
       "      <td>0.004885</td>\n",
       "      <td>0.240996</td>\n",
       "      <td>0.425711</td>\n",
       "      <td>0.668836</td>\n",
       "      <td>1.489899</td>\n",
       "    </tr>\n",
       "    <tr>\n",
       "      <th>mean_score_time</th>\n",
       "      <td>45.0</td>\n",
       "      <td>0.057564</td>\n",
       "      <td>0.008058</td>\n",
       "      <td>0.033757</td>\n",
       "      <td>0.052000</td>\n",
       "      <td>0.057148</td>\n",
       "      <td>0.061708</td>\n",
       "      <td>0.076665</td>\n",
       "    </tr>\n",
       "    <tr>\n",
       "      <th>std_score_time</th>\n",
       "      <td>45.0</td>\n",
       "      <td>0.007918</td>\n",
       "      <td>0.004723</td>\n",
       "      <td>0.000967</td>\n",
       "      <td>0.004453</td>\n",
       "      <td>0.006592</td>\n",
       "      <td>0.011344</td>\n",
       "      <td>0.021092</td>\n",
       "    </tr>\n",
       "    <tr>\n",
       "      <th>split0_test_score</th>\n",
       "      <td>45.0</td>\n",
       "      <td>0.553694</td>\n",
       "      <td>0.093130</td>\n",
       "      <td>0.440766</td>\n",
       "      <td>0.441221</td>\n",
       "      <td>0.621846</td>\n",
       "      <td>0.632325</td>\n",
       "      <td>0.632431</td>\n",
       "    </tr>\n",
       "    <tr>\n",
       "      <th>split1_test_score</th>\n",
       "      <td>45.0</td>\n",
       "      <td>0.554094</td>\n",
       "      <td>0.093342</td>\n",
       "      <td>0.440857</td>\n",
       "      <td>0.441373</td>\n",
       "      <td>0.623460</td>\n",
       "      <td>0.632400</td>\n",
       "      <td>0.632650</td>\n",
       "    </tr>\n",
       "    <tr>\n",
       "      <th>split2_test_score</th>\n",
       "      <td>45.0</td>\n",
       "      <td>0.554371</td>\n",
       "      <td>0.093693</td>\n",
       "      <td>0.440842</td>\n",
       "      <td>0.441100</td>\n",
       "      <td>0.623748</td>\n",
       "      <td>0.633060</td>\n",
       "      <td>0.633196</td>\n",
       "    </tr>\n",
       "    <tr>\n",
       "      <th>mean_test_score</th>\n",
       "      <td>45.0</td>\n",
       "      <td>0.554053</td>\n",
       "      <td>0.093388</td>\n",
       "      <td>0.440827</td>\n",
       "      <td>0.441239</td>\n",
       "      <td>0.623018</td>\n",
       "      <td>0.632590</td>\n",
       "      <td>0.632759</td>\n",
       "    </tr>\n",
       "    <tr>\n",
       "      <th>std_test_score</th>\n",
       "      <td>45.0</td>\n",
       "      <td>0.000335</td>\n",
       "      <td>0.000303</td>\n",
       "      <td>0.000033</td>\n",
       "      <td>0.000103</td>\n",
       "      <td>0.000324</td>\n",
       "      <td>0.000341</td>\n",
       "      <td>0.001039</td>\n",
       "    </tr>\n",
       "    <tr>\n",
       "      <th>rank_test_score</th>\n",
       "      <td>45.0</td>\n",
       "      <td>22.288889</td>\n",
       "      <td>13.424236</td>\n",
       "      <td>1.000000</td>\n",
       "      <td>11.000000</td>\n",
       "      <td>23.000000</td>\n",
       "      <td>33.000000</td>\n",
       "      <td>44.000000</td>\n",
       "    </tr>\n",
       "  </tbody>\n",
       "</table>\n",
       "</div>"
      ],
      "text/plain": [
       "                   count       mean        std       min        25%  \\\n",
       "mean_fit_time       45.0  23.367719  12.030922  5.803149   6.931648   \n",
       "std_fit_time        45.0   0.483793   0.330868  0.004885   0.240996   \n",
       "mean_score_time     45.0   0.057564   0.008058  0.033757   0.052000   \n",
       "std_score_time      45.0   0.007918   0.004723  0.000967   0.004453   \n",
       "split0_test_score   45.0   0.553694   0.093130  0.440766   0.441221   \n",
       "split1_test_score   45.0   0.554094   0.093342  0.440857   0.441373   \n",
       "split2_test_score   45.0   0.554371   0.093693  0.440842   0.441100   \n",
       "mean_test_score     45.0   0.554053   0.093388  0.440827   0.441239   \n",
       "std_test_score      45.0   0.000335   0.000303  0.000033   0.000103   \n",
       "rank_test_score     45.0  22.288889  13.424236  1.000000  11.000000   \n",
       "\n",
       "                         50%        75%        max  \n",
       "mean_fit_time      29.913413  32.631592  37.075277  \n",
       "std_fit_time        0.425711   0.668836   1.489899  \n",
       "mean_score_time     0.057148   0.061708   0.076665  \n",
       "std_score_time      0.006592   0.011344   0.021092  \n",
       "split0_test_score   0.621846   0.632325   0.632431  \n",
       "split1_test_score   0.623460   0.632400   0.632650  \n",
       "split2_test_score   0.623748   0.633060   0.633196  \n",
       "mean_test_score     0.623018   0.632590   0.632759  \n",
       "std_test_score      0.000324   0.000341   0.001039  \n",
       "rank_test_score    23.000000  33.000000  44.000000  "
      ]
     },
     "execution_count": 64,
     "metadata": {},
     "output_type": "execute_result"
    }
   ],
   "source": [
    "cvs.describe().T"
   ]
  },
  {
   "cell_type": "code",
   "execution_count": 65,
   "id": "04c07602",
   "metadata": {},
   "outputs": [
    {
     "name": "stderr",
     "output_type": "stream",
     "text": [
      "C:\\Users\\victo\\anaconda3\\lib\\site-packages\\sklearn\\linear_model\\_logistic.py:763: ConvergenceWarning:\n",
      "\n",
      "lbfgs failed to converge (status=1):\n",
      "STOP: TOTAL NO. of ITERATIONS REACHED LIMIT.\n",
      "\n",
      "Increase the number of iterations (max_iter) or scale the data as shown in:\n",
      "    https://scikit-learn.org/stable/modules/preprocessing.html\n",
      "Please also refer to the documentation for alternative solver options:\n",
      "    https://scikit-learn.org/stable/modules/linear_model.html#logistic-regression\n",
      "\n"
     ]
    }
   ],
   "source": [
    "model_gs_logreg = LogisticRegression(**grid_search_logreg.best_params_)\n",
    "\n",
    "model_gs_logreg.fit(X_train, y_train)\n",
    "y_pred_gs_logreg = model_gs_logreg.predict(X_test)"
   ]
  },
  {
   "cell_type": "code",
   "execution_count": 66,
   "id": "a177a0d6",
   "metadata": {},
   "outputs": [
    {
     "name": "stdout",
     "output_type": "stream",
     "text": [
      "              precision    recall  f1-score   support\n",
      "\n",
      "           0       0.63      0.85      0.72     55352\n",
      "           1       0.65      0.37      0.47     43638\n",
      "\n",
      "    accuracy                           0.64     98990\n",
      "   macro avg       0.64      0.61      0.60     98990\n",
      "weighted avg       0.64      0.64      0.61     98990\n",
      "\n"
     ]
    },
    {
     "data": {
      "image/png": "[encoded data removed]",
      "text/plain": [
       "<Figure size 432x288 with 1 Axes>"
      ]
     },
     "metadata": {
      "needs_background": "light"
     },
     "output_type": "display_data"
    }
   ],
   "source": [
    "print(classification_report(y_test, y_pred_gs_logreg))\n",
    "\n",
    "cm = confusion_matrix(y_test, y_pred_gs_logreg)\n",
    "plot_confusion_matrix(conf_mat=cm, fontcolor_threshold=0.8)\n",
    "plt.show()"
   ]
  },
  {
   "cell_type": "markdown",
   "id": "17831eb1",
   "metadata": {},
   "source": [
    "## RandomSearchCV"
   ]
  },
  {
   "cell_type": "markdown",
   "id": "e48cc990",
   "metadata": {},
   "source": [
    "#### AdaBoost"
   ]
  },
  {
   "cell_type": "code",
   "execution_count": 67,
   "id": "5730427c",
   "metadata": {},
   "outputs": [],
   "source": [
    "random_search_adaboost = RandomizedSearchCV(\n",
    "    estimator=model_adaboost,\n",
    "    param_distributions=params_grid_adaboost,\n",
    "    n_iter=100,\n",
    "    scoring='accuracy',\n",
    "    cv=3,\n",
    "    verbose=2,\n",
    "    n_jobs=-1\n",
    ")"
   ]
  },
  {
   "cell_type": "code",
   "execution_count": 68,
   "id": "99b6040e",
   "metadata": {},
   "outputs": [
    {
     "name": "stderr",
     "output_type": "stream",
     "text": [
      "C:\\Users\\victo\\anaconda3\\lib\\site-packages\\sklearn\\model_selection\\_search.py:285: UserWarning:\n",
      "\n",
      "The total space of parameters 9 is smaller than n_iter=100. Running 9 iterations. For exhaustive searches, use GridSearchCV.\n",
      "\n"
     ]
    },
    {
     "name": "stdout",
     "output_type": "stream",
     "text": [
      "Fitting 3 folds for each of 9 candidates, totalling 27 fits\n",
      "0.5192921695959898\n",
      "Wall time: 7min 29s\n"
     ]
    }
   ],
   "source": [
    "%%time\n",
    "\n",
    "random_search_adaboost.fit(X_train, y_train)\n",
    "print(random_search_adaboost.cv_results_['mean_test_score'].mean())"
   ]
  },
  {
   "cell_type": "code",
   "execution_count": 69,
   "id": "7cd93c18",
   "metadata": {},
   "outputs": [
    {
     "data": {
      "text/plain": [
       "{'n_estimators': 175, 'learning_rate': 1}"
      ]
     },
     "execution_count": 69,
     "metadata": {},
     "output_type": "execute_result"
    }
   ],
   "source": [
    "random_search_adaboost.best_params_"
   ]
  },
  {
   "cell_type": "code",
   "execution_count": 70,
   "id": "715089b7",
   "metadata": {},
   "outputs": [],
   "source": [
    "model_rs_adaboost = AdaBoostClassifier(**random_search_adaboost.best_params_)\n",
    "\n",
    "model_rs_adaboost.fit(X_train, y_train)\n",
    "y_pred_rs_adaboost = model_rs_adaboost.predict(X_test)"
   ]
  },
  {
   "cell_type": "code",
   "execution_count": 71,
   "id": "ffd0579e",
   "metadata": {},
   "outputs": [
    {
     "name": "stdout",
     "output_type": "stream",
     "text": [
      "              precision    recall  f1-score   support\n",
      "\n",
      "           0       0.63      0.85      0.72     55352\n",
      "           1       0.66      0.37      0.47     43638\n",
      "\n",
      "    accuracy                           0.64     98990\n",
      "   macro avg       0.65      0.61      0.60     98990\n",
      "weighted avg       0.64      0.64      0.61     98990\n",
      "\n"
     ]
    },
    {
     "data": {
      "image/png": "[encoded data removed]",
      "text/plain": [
       "<Figure size 432x288 with 1 Axes>"
      ]
     },
     "metadata": {
      "needs_background": "light"
     },
     "output_type": "display_data"
    }
   ],
   "source": [
    "print(classification_report(y_test, y_pred_rs_adaboost))\n",
    "\n",
    "cm = confusion_matrix(y_test, y_pred_rs_adaboost)\n",
    "plot_confusion_matrix(conf_mat=cm, fontcolor_threshold=0.8)\n",
    "plt.show()"
   ]
  },
  {
   "cell_type": "markdown",
   "id": "587ec1bb",
   "metadata": {},
   "source": [
    "#### LogisticRegression"
   ]
  },
  {
   "cell_type": "code",
   "execution_count": 72,
   "id": "7a95d825",
   "metadata": {},
   "outputs": [],
   "source": [
    "random_search_logreg = RandomizedSearchCV(\n",
    "    estimator=model_logreg,\n",
    "    param_distributions=params_grid_logreg,\n",
    "    n_iter=100,\n",
    "    scoring='accuracy',\n",
    "    cv=3,\n",
    "    verbose=2,\n",
    "    n_jobs=-1\n",
    ")"
   ]
  },
  {
   "cell_type": "code",
   "execution_count": 73,
   "id": "812f7982",
   "metadata": {},
   "outputs": [
    {
     "name": "stderr",
     "output_type": "stream",
     "text": [
      "C:\\Users\\victo\\anaconda3\\lib\\site-packages\\sklearn\\model_selection\\_search.py:285: UserWarning:\n",
      "\n",
      "The total space of parameters 45 is smaller than n_iter=100. Running 45 iterations. For exhaustive searches, use GridSearchCV.\n",
      "\n"
     ]
    },
    {
     "name": "stdout",
     "output_type": "stream",
     "text": [
      "Fitting 3 folds for each of 45 candidates, totalling 135 fits\n",
      "0.5540529270500631\n",
      "Wall time: 6min 43s\n"
     ]
    },
    {
     "name": "stderr",
     "output_type": "stream",
     "text": [
      "C:\\Users\\victo\\anaconda3\\lib\\site-packages\\sklearn\\linear_model\\_logistic.py:763: ConvergenceWarning:\n",
      "\n",
      "lbfgs failed to converge (status=1):\n",
      "STOP: TOTAL NO. of ITERATIONS REACHED LIMIT.\n",
      "\n",
      "Increase the number of iterations (max_iter) or scale the data as shown in:\n",
      "    https://scikit-learn.org/stable/modules/preprocessing.html\n",
      "Please also refer to the documentation for alternative solver options:\n",
      "    https://scikit-learn.org/stable/modules/linear_model.html#logistic-regression\n",
      "\n"
     ]
    }
   ],
   "source": [
    "%%time\n",
    "\n",
    "random_search_logreg.fit(X_train, y_train)\n",
    "print(random_search_logreg.cv_results_['mean_test_score'].mean())"
   ]
  },
  {
   "cell_type": "code",
   "execution_count": 74,
   "id": "2051e67b",
   "metadata": {},
   "outputs": [
    {
     "data": {
      "text/plain": [
       "{'solver': 'lbfgs', 'class_weight': 'auto', 'C': 1}"
      ]
     },
     "execution_count": 74,
     "metadata": {},
     "output_type": "execute_result"
    }
   ],
   "source": [
    "random_search_logreg.best_params_"
   ]
  },
  {
   "cell_type": "code",
   "execution_count": 75,
   "id": "5998e71c",
   "metadata": {},
   "outputs": [
    {
     "name": "stderr",
     "output_type": "stream",
     "text": [
      "C:\\Users\\victo\\anaconda3\\lib\\site-packages\\sklearn\\linear_model\\_logistic.py:763: ConvergenceWarning:\n",
      "\n",
      "lbfgs failed to converge (status=1):\n",
      "STOP: TOTAL NO. of ITERATIONS REACHED LIMIT.\n",
      "\n",
      "Increase the number of iterations (max_iter) or scale the data as shown in:\n",
      "    https://scikit-learn.org/stable/modules/preprocessing.html\n",
      "Please also refer to the documentation for alternative solver options:\n",
      "    https://scikit-learn.org/stable/modules/linear_model.html#logistic-regression\n",
      "\n"
     ]
    }
   ],
   "source": [
    "model_rs_logreg = LogisticRegression(**random_search_logreg.best_params_)\n",
    "\n",
    "model_rs_logreg.fit(X_train, y_train)\n",
    "y_pred_rs_logreg = model_rs_logreg.predict(X_test)"
   ]
  },
  {
   "cell_type": "code",
   "execution_count": 76,
   "id": "5061ebc4",
   "metadata": {},
   "outputs": [
    {
     "name": "stdout",
     "output_type": "stream",
     "text": [
      "              precision    recall  f1-score   support\n",
      "\n",
      "           0       0.63      0.85      0.72     55352\n",
      "           1       0.65      0.37      0.47     43638\n",
      "\n",
      "    accuracy                           0.64     98990\n",
      "   macro avg       0.64      0.61      0.60     98990\n",
      "weighted avg       0.64      0.64      0.61     98990\n",
      "\n"
     ]
    },
    {
     "data": {
      "image/png": "[encoded data removed]",
      "text/plain": [
       "<Figure size 432x288 with 1 Axes>"
      ]
     },
     "metadata": {
      "needs_background": "light"
     },
     "output_type": "display_data"
    }
   ],
   "source": [
    "print(classification_report(y_test, y_pred_rs_logreg))\n",
    "\n",
    "cm = confusion_matrix(y_test, y_pred_rs_logreg)\n",
    "plot_confusion_matrix(conf_mat=cm, fontcolor_threshold=0.8)\n",
    "plt.show()"
   ]
  },
  {
   "cell_type": "markdown",
   "id": "cd7a8640",
   "metadata": {},
   "source": [
    "Comparação entre os resultados de Grid e Random Search para ambos modelos:"
   ]
  },
  {
   "cell_type": "code",
   "execution_count": 77,
   "id": "cbb2cccb",
   "metadata": {},
   "outputs": [
    {
     "name": "stdout",
     "output_type": "stream",
     "text": [
      "Comparação das acurácias (AdaBoost): \n",
      "-> Acurácia sem Otimização:          0.633\n",
      "-> Acurácia com GridSearchCV:        0.638\n",
      "-> Acurácia com RandomizedSearchCV:  0.638\n",
      "Comparação das acurácias (LogReg): \n",
      "-> Acurácia sem Otimização:          0.633\n",
      "-> Acurácia com GridSearchCV:        0.635\n",
      "-> Acurácia com RandomizedSearchCV:  0.635\n"
     ]
    }
   ],
   "source": [
    "print(\"Comparação das acurácias (AdaBoost): \")\n",
    "print('-> Acurácia sem Otimização:         ', np.round(accuracy_score(y_test, y_pred), 3))\n",
    "print('-> Acurácia com GridSearchCV:       ', np.round(accuracy_score(y_test, y_pred_gs_adaboost), 3))\n",
    "print('-> Acurácia com RandomizedSearchCV: ', np.round(accuracy_score(y_test, y_pred_rs_adaboost), 3))\n",
    "\n",
    "print(\"Comparação das acurácias (LogReg): \")\n",
    "print('-> Acurácia sem Otimização:         ', np.round(accuracy_score(y_test, y_pred), 3))\n",
    "print('-> Acurácia com GridSearchCV:       ', np.round(accuracy_score(y_test, y_pred_gs_logreg), 3))\n",
    "print('-> Acurácia com RandomizedSearchCV: ', np.round(accuracy_score(y_test, y_pred_rs_logreg), 3))"
   ]
  },
  {
   "cell_type": "markdown",
   "id": "08251e71",
   "metadata": {},
   "source": [
    "Caso necessário maximizar o *recall* independentemente do prejuízo para as demais métricas, ele atinge taxas de até 69%, a custo de reduzir a acurácia geral, conforme abaixo:"
   ]
  },
  {
   "cell_type": "code",
   "execution_count": 78,
   "id": "3ece131d",
   "metadata": {},
   "outputs": [],
   "source": [
    "random_search_adaboost = RandomizedSearchCV(\n",
    "    estimator=model_adaboost,\n",
    "    param_distributions=params_grid_adaboost,\n",
    "    n_iter=100,\n",
    "    scoring='recall',\n",
    "    cv=3,\n",
    "    verbose=2,\n",
    "    n_jobs=-1\n",
    ")"
   ]
  },
  {
   "cell_type": "code",
   "execution_count": 79,
   "id": "c9eeb9c9",
   "metadata": {},
   "outputs": [
    {
     "name": "stdout",
     "output_type": "stream",
     "text": [
      "Fitting 3 folds for each of 9 candidates, totalling 27 fits\n"
     ]
    },
    {
     "name": "stderr",
     "output_type": "stream",
     "text": [
      "C:\\Users\\victo\\anaconda3\\lib\\site-packages\\sklearn\\model_selection\\_search.py:285: UserWarning:\n",
      "\n",
      "The total space of parameters 9 is smaller than n_iter=100. Running 9 iterations. For exhaustive searches, use GridSearchCV.\n",
      "\n"
     ]
    },
    {
     "name": "stdout",
     "output_type": "stream",
     "text": [
      "0.4993389472687422\n",
      "Wall time: 6min 57s\n"
     ]
    }
   ],
   "source": [
    "%%time\n",
    "\n",
    "random_search_adaboost.fit(X_train, y_train)\n",
    "print(random_search_adaboost.cv_results_['mean_test_score'].mean())"
   ]
  },
  {
   "cell_type": "code",
   "execution_count": 80,
   "id": "a0297ef3",
   "metadata": {},
   "outputs": [
    {
     "data": {
      "text/plain": [
       "{'n_estimators': 50, 'learning_rate': 5}"
      ]
     },
     "execution_count": 80,
     "metadata": {},
     "output_type": "execute_result"
    }
   ],
   "source": [
    "random_search_adaboost.best_params_"
   ]
  },
  {
   "cell_type": "code",
   "execution_count": 81,
   "id": "12069aa6",
   "metadata": {},
   "outputs": [],
   "source": [
    "model_rs_adaboost = AdaBoostClassifier(**random_search_adaboost.best_params_)\n",
    "\n",
    "model_rs_adaboost.fit(X_train, y_train)\n",
    "y_pred_rs_adaboost = model_rs_adaboost.predict(X_test)"
   ]
  },
  {
   "cell_type": "code",
   "execution_count": 82,
   "id": "826e0922",
   "metadata": {},
   "outputs": [
    {
     "name": "stdout",
     "output_type": "stream",
     "text": [
      "              precision    recall  f1-score   support\n",
      "\n",
      "           0       0.36      0.14      0.20     55352\n",
      "           1       0.39      0.69      0.50     43638\n",
      "\n",
      "    accuracy                           0.38     98990\n",
      "   macro avg       0.37      0.41      0.35     98990\n",
      "weighted avg       0.37      0.38      0.33     98990\n",
      "\n"
     ]
    },
    {
     "data": {
      "image/png": "[encoded data removed]",
      "text/plain": [
       "<Figure size 432x288 with 1 Axes>"
      ]
     },
     "metadata": {
      "needs_background": "light"
     },
     "output_type": "display_data"
    }
   ],
   "source": [
    "print(classification_report(y_test, y_pred_rs_adaboost))\n",
    "\n",
    "cm = confusion_matrix(y_test, y_pred_rs_adaboost)\n",
    "plot_confusion_matrix(conf_mat=cm, fontcolor_threshold=0.8)\n",
    "plt.show()"
   ]
  },
  {
   "cell_type": "markdown",
   "id": "8bd4a1b1",
   "metadata": {},
   "source": [
    "## Executando a base de testes"
   ]
  },
  {
   "cell_type": "code",
   "execution_count": 83,
   "id": "fbd0a5ff",
   "metadata": {
    "scrolled": true
   },
   "outputs": [
    {
     "data": {
      "text/html": [
       "<div>\n",
       "<style scoped>\n",
       "    .dataframe tbody tr th:only-of-type {\n",
       "        vertical-align: middle;\n",
       "    }\n",
       "\n",
       "    .dataframe tbody tr th {\n",
       "        vertical-align: top;\n",
       "    }\n",
       "\n",
       "    .dataframe thead th {\n",
       "        text-align: right;\n",
       "    }\n",
       "</style>\n",
       "<table border=\"1\" class=\"dataframe\">\n",
       "  <thead>\n",
       "    <tr style=\"text-align: right;\">\n",
       "      <th></th>\n",
       "      <th>sex</th>\n",
       "      <th>patient_type</th>\n",
       "      <th>intubed</th>\n",
       "      <th>pneumonia</th>\n",
       "      <th>age</th>\n",
       "      <th>pregnancy</th>\n",
       "      <th>diabetes</th>\n",
       "      <th>copd</th>\n",
       "      <th>asthma</th>\n",
       "      <th>inmsupr</th>\n",
       "      <th>hypertension</th>\n",
       "      <th>other_disease</th>\n",
       "      <th>cardiovascular</th>\n",
       "      <th>obesity</th>\n",
       "      <th>renal_chronic</th>\n",
       "      <th>tobacco</th>\n",
       "      <th>contact_other_covid</th>\n",
       "      <th>icu</th>\n",
       "    </tr>\n",
       "  </thead>\n",
       "  <tbody>\n",
       "    <tr>\n",
       "      <th>373402</th>\n",
       "      <td>1</td>\n",
       "      <td>1</td>\n",
       "      <td>NaN</td>\n",
       "      <td>0.0</td>\n",
       "      <td>35</td>\n",
       "      <td>0.0</td>\n",
       "      <td>0.0</td>\n",
       "      <td>0.0</td>\n",
       "      <td>0.0</td>\n",
       "      <td>0.0</td>\n",
       "      <td>0.0</td>\n",
       "      <td>0.0</td>\n",
       "      <td>0.0</td>\n",
       "      <td>1.0</td>\n",
       "      <td>0.0</td>\n",
       "      <td>0.0</td>\n",
       "      <td>1.0</td>\n",
       "      <td>NaN</td>\n",
       "    </tr>\n",
       "    <tr>\n",
       "      <th>181022</th>\n",
       "      <td>0</td>\n",
       "      <td>1</td>\n",
       "      <td>NaN</td>\n",
       "      <td>0.0</td>\n",
       "      <td>26</td>\n",
       "      <td>NaN</td>\n",
       "      <td>0.0</td>\n",
       "      <td>0.0</td>\n",
       "      <td>0.0</td>\n",
       "      <td>0.0</td>\n",
       "      <td>0.0</td>\n",
       "      <td>0.0</td>\n",
       "      <td>0.0</td>\n",
       "      <td>0.0</td>\n",
       "      <td>0.0</td>\n",
       "      <td>0.0</td>\n",
       "      <td>NaN</td>\n",
       "      <td>NaN</td>\n",
       "    </tr>\n",
       "    <tr>\n",
       "      <th>317841</th>\n",
       "      <td>0</td>\n",
       "      <td>1</td>\n",
       "      <td>NaN</td>\n",
       "      <td>0.0</td>\n",
       "      <td>57</td>\n",
       "      <td>NaN</td>\n",
       "      <td>0.0</td>\n",
       "      <td>0.0</td>\n",
       "      <td>0.0</td>\n",
       "      <td>0.0</td>\n",
       "      <td>0.0</td>\n",
       "      <td>0.0</td>\n",
       "      <td>0.0</td>\n",
       "      <td>0.0</td>\n",
       "      <td>0.0</td>\n",
       "      <td>0.0</td>\n",
       "      <td>0.0</td>\n",
       "      <td>NaN</td>\n",
       "    </tr>\n",
       "    <tr>\n",
       "      <th>272745</th>\n",
       "      <td>1</td>\n",
       "      <td>1</td>\n",
       "      <td>NaN</td>\n",
       "      <td>0.0</td>\n",
       "      <td>40</td>\n",
       "      <td>0.0</td>\n",
       "      <td>0.0</td>\n",
       "      <td>0.0</td>\n",
       "      <td>0.0</td>\n",
       "      <td>0.0</td>\n",
       "      <td>0.0</td>\n",
       "      <td>0.0</td>\n",
       "      <td>0.0</td>\n",
       "      <td>0.0</td>\n",
       "      <td>0.0</td>\n",
       "      <td>0.0</td>\n",
       "      <td>NaN</td>\n",
       "      <td>NaN</td>\n",
       "    </tr>\n",
       "    <tr>\n",
       "      <th>153280</th>\n",
       "      <td>0</td>\n",
       "      <td>0</td>\n",
       "      <td>0.0</td>\n",
       "      <td>0.0</td>\n",
       "      <td>55</td>\n",
       "      <td>NaN</td>\n",
       "      <td>0.0</td>\n",
       "      <td>0.0</td>\n",
       "      <td>0.0</td>\n",
       "      <td>0.0</td>\n",
       "      <td>0.0</td>\n",
       "      <td>0.0</td>\n",
       "      <td>0.0</td>\n",
       "      <td>0.0</td>\n",
       "      <td>0.0</td>\n",
       "      <td>0.0</td>\n",
       "      <td>NaN</td>\n",
       "      <td>0.0</td>\n",
       "    </tr>\n",
       "  </tbody>\n",
       "</table>\n",
       "</div>"
      ],
      "text/plain": [
       "        sex  patient_type  intubed  pneumonia  age  pregnancy  diabetes  copd  \\\n",
       "373402    1             1      NaN        0.0   35        0.0       0.0   0.0   \n",
       "181022    0             1      NaN        0.0   26        NaN       0.0   0.0   \n",
       "317841    0             1      NaN        0.0   57        NaN       0.0   0.0   \n",
       "272745    1             1      NaN        0.0   40        0.0       0.0   0.0   \n",
       "153280    0             0      0.0        0.0   55        NaN       0.0   0.0   \n",
       "\n",
       "        asthma  inmsupr  hypertension  other_disease  cardiovascular  obesity  \\\n",
       "373402     0.0      0.0           0.0            0.0             0.0      1.0   \n",
       "181022     0.0      0.0           0.0            0.0             0.0      0.0   \n",
       "317841     0.0      0.0           0.0            0.0             0.0      0.0   \n",
       "272745     0.0      0.0           0.0            0.0             0.0      0.0   \n",
       "153280     0.0      0.0           0.0            0.0             0.0      0.0   \n",
       "\n",
       "        renal_chronic  tobacco  contact_other_covid  icu  \n",
       "373402            0.0      0.0                  1.0  NaN  \n",
       "181022            0.0      0.0                  NaN  NaN  \n",
       "317841            0.0      0.0                  0.0  NaN  \n",
       "272745            0.0      0.0                  NaN  NaN  \n",
       "153280            0.0      0.0                  NaN  0.0  "
      ]
     },
     "execution_count": 83,
     "metadata": {},
     "output_type": "execute_result"
    }
   ],
   "source": [
    "covid_teste = pd.read_csv('COVID_subm.csv', index_col=0)\n",
    "covid_teste.head()"
   ]
  },
  {
   "cell_type": "code",
   "execution_count": 84,
   "id": "047fe338",
   "metadata": {},
   "outputs": [],
   "source": [
    "model = AdaBoostClassifier(n_estimators=175, learning_rate=1, random_state=random_state)\n",
    "\n",
    "model.fit(X_train, y_train)\n",
    "y_pred = model.predict(X_test)"
   ]
  },
  {
   "cell_type": "code",
   "execution_count": 85,
   "id": "cf1af7f0",
   "metadata": {},
   "outputs": [
    {
     "name": "stdout",
     "output_type": "stream",
     "text": [
      "              precision    recall  f1-score   support\n",
      "\n",
      "           0       0.63      0.85      0.72     55352\n",
      "           1       0.66      0.37      0.47     43638\n",
      "\n",
      "    accuracy                           0.64     98990\n",
      "   macro avg       0.65      0.61      0.60     98990\n",
      "weighted avg       0.64      0.64      0.61     98990\n",
      "\n"
     ]
    },
    {
     "data": {
      "image/png": "[encoded data removed]",
      "text/plain": [
       "<Figure size 432x288 with 1 Axes>"
      ]
     },
     "metadata": {
      "needs_background": "light"
     },
     "output_type": "display_data"
    }
   ],
   "source": [
    "print(classification_report(y_test, y_pred))\n",
    "\n",
    "cm = confusion_matrix(y_test, y_pred)\n",
    "plot_confusion_matrix(conf_mat=cm, fontcolor_threshold=0.8)\n",
    "plt.show()"
   ]
  },
  {
   "cell_type": "markdown",
   "id": "4b95b7b9",
   "metadata": {},
   "source": [
    "## Conclusões <a class=\"anchor\" id=\"fifth-bullet\"></a>"
   ]
  },
  {
   "cell_type": "markdown",
   "id": "582954ee",
   "metadata": {},
   "source": [
    "Após as devidas análises, podemos verificar que o melhor modelo, que conseguiu otimizar a acurácia (63,8%), sem prejudicar a precisão, foi o AdaBoost utilizando 175 estimadores e taxa de aprendizado igual a 1. Para a classe 0 os resultados são satisfatórios, porém para a classe 1 o *recall* permance baixo.\n",
    "\n",
    "Se desejado maximizar o *recall*, por sua vez, utilizamos o AdaBoost com 50 estimadores e taxa de aprendizado igual a 5."
   ]
  },
  {
   "cell_type": "markdown",
   "id": "40c569d0",
   "metadata": {},
   "source": [
    "O valor do recall nos modelos *baseline* e no modelo com acurácia otimizada se mostrou muito baixo devido a diversos fatores, mas principalmente devido à maioria das features não serem sintomas de COVID propriamente ditos, e sim:\n",
    "* Fatores de risco\n",
    "* ou doenças crônicas\n",
    "* ou medidas que foram tomadas para prevenção e tratamento de casos suspeitos, muitas vezes sem o diagnóstico comprovado ou tomadas \"ao acaso\", fator esse que prejudica bastante a performance do modelo"
   ]
  },
  {
   "cell_type": "markdown",
   "id": "96bdb819",
   "metadata": {},
   "source": [
    "*Exemplo: muitos registros que apresentaram quadros com diversas combinações de fatores de risco foram internados mas não tinham COVID.*"
   ]
  },
  {
   "cell_type": "markdown",
   "id": "fc61752c",
   "metadata": {},
   "source": [
    "Demais estratégicas para se otimizar ainda mais os modelos e nossos resultados seriam:\n",
    "* Adicionar mais features significativas (ex.: tipos de sintomas) e eliminar aquelas que pouco contribuem para determinar se o paciente possui COVID ou não\n",
    "* Obter alguma certificação de que as internações são feitas em casos positivos e que os diagnósticos estão corretos (teste para COVID está sujeito a uma taxa de FN e FP)\n",
    "* Utilizar outras ferramentas para otimização de modelos (ex.: Optuna)\n",
    "* Testar demais algoritmos de classificação (Naive-Bayes, SVM)"
   ]
  },
  {
   "cell_type": "code",
   "execution_count": null,
   "id": "8959fa63",
   "metadata": {},
   "outputs": [],
   "source": []
  },
  {
   "cell_type": "markdown",
   "id": "eacb5fb1",
   "metadata": {},
   "source": [
    "# [Retornar ao início](#imports)"
   ]
  }
 ],
 "metadata": {
  "colab": {
   "name": "Projeto 1 - COVID.ipynb",
   "provenance": []
  },
  "kernelspec": {
   "display_name": "Python 3",
   "language": "python",
   "name": "python3"
  },
  "language_info": {
   "codemirror_mode": {
    "name": "ipython",
    "version": 3
   },
   "file_extension": ".py",
   "mimetype": "text/x-python",
   "name": "python",
   "nbconvert_exporter": "python",
   "pygments_lexer": "ipython3",
   "version": "3.8.8"
  }
 },
 "nbformat": 4,
 "nbformat_minor": 5
}
